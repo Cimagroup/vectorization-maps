{
 "cells": [
  {
   "cell_type": "markdown",
   "id": "34a90e63",
   "metadata": {},
   "source": [
    "# Classifying clothes in Fashion MNIST using TDA"
   ]
  },
  {
   "cell_type": "code",
   "execution_count": 9,
   "id": "2a7a9359",
   "metadata": {},
   "outputs": [],
   "source": [
    "import numpy as np\n",
    "import matplotlib.pyplot as plt\n",
    "from sklearn.ensemble import RandomForestClassifier\n",
    "import gudhi as gd\n",
    "import gudhi.representations\n",
    "import extract_featurized_barcodes as ex\n",
    "from fashion_mnist import mnist_reader"
   ]
  },
  {
   "cell_type": "markdown",
   "id": "3437c756",
   "metadata": {},
   "source": [
    "## Calculate filtrations and barcodes"
   ]
  },
  {
   "cell_type": "markdown",
   "id": "b59feed4",
   "metadata": {},
   "source": [
    "First, we load the images and generate their inverse"
   ]
  },
  {
   "cell_type": "code",
   "execution_count": 2,
   "id": "b054b2f2",
   "metadata": {},
   "outputs": [],
   "source": [
    "X_train, y_train = mnist_reader.load_mnist('fashion_mnist/data/fashion', kind='train')\n",
    "X_test, y_test = mnist_reader.load_mnist('fashion_mnist/data/fashion', kind='t10k')\n",
    "Opp_train = 255 - X_train\n",
    "Opp_test = 255 - X_test"
   ]
  },
  {
   "cell_type": "markdown",
   "id": "06530485",
   "metadata": {},
   "source": [
    "Then, we calculate their cubical complexes. It takes 7 minutes."
   ]
  },
  {
   "cell_type": "code",
   "execution_count": 3,
   "id": "e2686226",
   "metadata": {},
   "outputs": [],
   "source": [
    "cub_filtration = lambda image : gd.CubicalComplex(dimensions = [28,28], top_dimensional_cells=image)\n",
    "calculate_pd = lambda image : cub_filtration(image).persistence()\n",
    "\n",
    "train_pds = list(map(calculate_pd, X_train))\n",
    "test_pds = list(map(calculate_pd, X_test))\n",
    "train_pds_opp = list(map(calculate_pd, Opp_train))\n",
    "test_pds_opp = list(map(calculate_pd, Opp_test))"
   ]
  },
  {
   "cell_type": "markdown",
   "id": "ca49fc40",
   "metadata": {},
   "source": [
    "We remove infinity bars and separate the dimensions of each barcode"
   ]
  },
  {
   "cell_type": "code",
   "execution_count": 4,
   "id": "dc3cbb18",
   "metadata": {},
   "outputs": [],
   "source": [
    "infty_proj = lambda x : 256 if ~np.isfinite(x) else x\n",
    "\n",
    "intervals_of_dim_0 = lambda pd : np.array([[x[1][0], infty_proj(x[1][1])]  for x in pd if x[0]==0])\n",
    "train_pds_0 = list(map(intervals_of_dim_0, train_pds))\n",
    "test_pds_0 = list(map(intervals_of_dim_0, test_pds))\n",
    "train_pds_opp_0 = list(map(intervals_of_dim_0, train_pds_opp))\n",
    "test_pds_opp_0 = list(map(intervals_of_dim_0, test_pds_opp))\n",
    "\n",
    "intervals_of_dim_1 = lambda pd : np.array([[x[1][0], infty_proj(x[1][1])]  for x in pd if x[0]==1])\n",
    "train_pds_1 = list(map(intervals_of_dim_1, train_pds))\n",
    "test_pds_1 = list(map(intervals_of_dim_1, test_pds))\n",
    "train_pds_opp_1 = list(map(intervals_of_dim_1, train_pds_opp))\n",
    "test_pds_opp_1 = list(map(intervals_of_dim_1, test_pds_opp))"
   ]
  },
  {
   "cell_type": "markdown",
   "id": "3799c4e4",
   "metadata": {},
   "source": [
    "## Classification with the Betti Curve"
   ]
  },
  {
   "cell_type": "markdown",
   "id": "812fc085",
   "metadata": {},
   "source": [
    "We perform a classification task using the betti curve and Random Forest. We concatenate the four betti curves obtained from each image, and then feed the classifier with them. It takes 1 minutes."
   ]
  },
  {
   "cell_type": "code",
   "execution_count": 5,
   "id": "30617637",
   "metadata": {},
   "outputs": [],
   "source": [
    "res = 100\n",
    "train_Btt_0 = [ex.GetBettiCurveFeature(pd, res) for pd in train_pds_0]\n",
    "train_Btt_1 = [ex.GetBettiCurveFeature(pd, res) for pd in train_pds_1]\n",
    "test_Btt_0 = [ex.GetBettiCurveFeature(pd, res) for pd in test_pds_0]\n",
    "test_Btt_1 = [ex.GetBettiCurveFeature(pd, res) for pd in test_pds_1]\n",
    "train_Btt_opp_0 = [ex.GetBettiCurveFeature(pd, res) for pd in train_pds_opp_0]\n",
    "train_Btt_opp_1 = [ex.GetBettiCurveFeature(pd, res) for pd in train_pds_opp_1]\n",
    "test_Btt_opp_0 = [ex.GetBettiCurveFeature(pd, res) for pd in test_pds_opp_0]\n",
    "test_Btt_opp_1 = [ex.GetBettiCurveFeature(pd, res) for pd in test_pds_opp_1]\n",
    "train_Btt = [np.concatenate([dgm0,dgm1,dgm2,dgm3]) for dgm0,dgm1,dgm2,dgm3 in zip(train_Btt_0, train_Btt_1, train_Btt_opp_0, train_Btt_opp_1)]\n",
    "test_Btt = [np.concatenate([dgm0,dgm1,dgm2,dgm3]) for dgm0,dgm1,dgm2,dgm3 in zip(test_Btt_0, test_Btt_1, test_Btt_opp_0, test_Btt_opp_1)]"
   ]
  },
  {
   "cell_type": "markdown",
   "id": "fe0519cd",
   "metadata": {},
   "source": [
    "Example of how the curves look like after the concatenation."
   ]
  },
  {
   "cell_type": "code",
   "execution_count": 6,
   "id": "d385b983",
   "metadata": {},
   "outputs": [
    {
     "data": {
      "text/plain": [
       "[<matplotlib.lines.Line2D at 0x7f22e20faeb0>]"
      ]
     },
     "execution_count": 6,
     "metadata": {},
     "output_type": "execute_result"
    },
    {
     "data": {
      "image/png": "[encoded data removed]",
      "text/plain": [
       "<Figure size 432x288 with 1 Axes>"
      ]
     },
     "metadata": {
      "needs_background": "light"
     },
     "output_type": "display_data"
    }
   ],
   "source": [
    "plt.plot(train_Btt[0])"
   ]
  },
  {
   "cell_type": "markdown",
   "id": "e43da49b",
   "metadata": {},
   "source": [
    "We perform the classification task"
   ]
  },
  {
   "cell_type": "code",
   "execution_count": 7,
   "id": "1d210b88",
   "metadata": {},
   "outputs": [],
   "source": [
    "classifier = RandomForestClassifier()\n",
    "classifier = classifier.fit(train_Btt, y_train)  "
   ]
  },
  {
   "cell_type": "code",
   "execution_count": 8,
   "id": "da8d5a24",
   "metadata": {},
   "outputs": [
    {
     "name": "stdout",
     "output_type": "stream",
     "text": [
      "Train accuracy = 1.0\n",
      "Test accuracy  = 0.5796\n"
     ]
    }
   ],
   "source": [
    "print(\"Train accuracy = \" + str(classifier.score(train_Btt, y_train)))\n",
    "print(\"Test accuracy  = \" + str(classifier.score(test_Btt, y_test))) "
   ]
  },
  {
   "cell_type": "code",
   "execution_count": null,
   "id": "9e6cdaf1",
   "metadata": {},
   "outputs": [],
   "source": []
  }
 ],
 "metadata": {
  "kernelspec": {
   "display_name": "Python 3 (ipykernel)",
   "language": "python",
   "name": "python3"
  },
  "language_info": {
   "codemirror_mode": {
    "name": "ipython",
    "version": 3
   },
   "file_extension": ".py",
   "mimetype": "text/x-python",
   "name": "python",
   "nbconvert_exporter": "python",
   "pygments_lexer": "ipython3",
   "version": "3.8.10"
  }
 },
 "nbformat": 4,
 "nbformat_minor": 5
}
