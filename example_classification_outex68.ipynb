{
 "cells": [
  {
   "cell_type": "markdown",
   "id": "5ea1aac8",
   "metadata": {},
   "source": [
    "# Classifying textures in outex68 using TDA"
   ]
  },
  {
   "cell_type": "code",
   "execution_count": 1,
   "id": "fb3dd4ac",
   "metadata": {},
   "outputs": [],
   "source": [
    "from gtda.plotting import plot_heatmap\n",
    "from skimage import io\n",
    "import pandas as pd\n",
    "import numpy as np\n",
    "import os\n",
    "import matplotlib.pyplot as plt\n",
    "from sklearn.ensemble import RandomForestClassifier\n",
    "from sklearn.model_selection import cross_validate\n",
    "import gudhi as gd\n",
    "import gudhi.representations\n",
    "import extract_featurized_barcodes as ex"
   ]
  },
  {
   "cell_type": "markdown",
   "id": "9acdac8f",
   "metadata": {},
   "source": [
    "## Preparing the dataset"
   ]
  },
  {
   "cell_type": "markdown",
   "id": "258516bc",
   "metadata": {},
   "source": [
    "We will try to classify outex-68. First, we load the .bmp images as matrixes. It will take some seconds."
   ]
  },
  {
   "cell_type": "code",
   "execution_count": 2,
   "id": "38d07c80",
   "metadata": {},
   "outputs": [],
   "source": [
    "folder = 'Outex-TC-00024/images'\n",
    "images_names = os.listdir(folder)\n",
    "images_names = list(filter(lambda x : x[0]!='.', images_names))"
   ]
  },
  {
   "cell_type": "code",
   "execution_count": 3,
   "id": "69ed921b",
   "metadata": {},
   "outputs": [],
   "source": [
    "images_matrixes = np.array(list(map(lambda x : io.imread(folder+'/'+x), images_names)), dtype=float)"
   ]
  },
  {
   "cell_type": "markdown",
   "id": "f9cf4e61",
   "metadata": {},
   "source": [
    "Then, we pick the names of the training and test images and their labels."
   ]
  },
  {
   "cell_type": "code",
   "execution_count": 4,
   "id": "eb8ed23d",
   "metadata": {},
   "outputs": [],
   "source": [
    "train_names = pd.read_csv(\"/home/manu/review/Outex-TC-00024/000/train.txt\", sep=\" \", usecols=[0]).to_numpy().flatten().tolist()\n",
    "train_labels = pd.read_csv(\"/home/manu/review/Outex-TC-00024/000/train.txt\", sep=\" \", usecols=[1]).to_numpy().flatten().tolist()\n",
    "test_names = pd.read_csv(\"/home/manu/review/Outex-TC-00024/000/test.txt\", sep=\" \", usecols=[0]).to_numpy().flatten().tolist()\n",
    "test_labels = pd.read_csv(\"/home/manu/review/Outex-TC-00024/000/test.txt\", sep=\" \", usecols=[1]).to_numpy().flatten().tolist()"
   ]
  },
  {
   "cell_type": "markdown",
   "id": "492de645",
   "metadata": {},
   "source": [
    "Using the file names, we will load the train and test images. Note that they will keep the same order than the labels. We will also use the images with the greyscale inverted."
   ]
  },
  {
   "cell_type": "code",
   "execution_count": 5,
   "id": "04a70fad",
   "metadata": {},
   "outputs": [],
   "source": [
    "train_indexes = list(map(lambda x : images_names.index(x), train_names))\n",
    "test_indexes = list(map(lambda x : images_names.index(x), test_names))"
   ]
  },
  {
   "cell_type": "markdown",
   "id": "ba6ffe94",
   "metadata": {},
   "source": [
    "We are using only 10 classes from the original dataset. In order to perform the experiment with the 68 classes, comment the following cell."
   ]
  },
  {
   "cell_type": "code",
   "execution_count": 6,
   "id": "5e286cfc",
   "metadata": {},
   "outputs": [],
   "source": [
    "from numpy.random import choice\n",
    "labels = np.array(list(set(test_labels)))\n",
    "labels = choice(labels, size=(10), replace = False)\n",
    "    \n",
    "train_indexes = [train_indexes[i] for i in range(len(train_indexes)) if train_labels[i] in labels]\n",
    "train_labels = [i for i in train_labels if i in labels]\n",
    "test_indexes = [test_indexes[i] for i in range(len(test_indexes)) if test_labels[i] in labels]\n",
    "test_labels = [i for i in test_labels if i in labels]"
   ]
  },
  {
   "cell_type": "markdown",
   "id": "75510587",
   "metadata": {},
   "source": [
    "Finally, we load the images and their inverse."
   ]
  },
  {
   "cell_type": "code",
   "execution_count": 7,
   "id": "8f8e2b16",
   "metadata": {},
   "outputs": [],
   "source": [
    "images_gudhi = np.array(list(map(lambda x : x.reshape(128*128,1), images_matrixes)))\n",
    "train_gudhi =  images_gudhi[train_indexes]\n",
    "test_gudhi = images_gudhi[test_indexes]\n",
    "\n",
    "train_gudhi_opp =  255-train_gudhi\n",
    "test_gudhi_opp = 255-train_gudhi"
   ]
  },
  {
   "cell_type": "markdown",
   "id": "2d79dc2d",
   "metadata": {},
   "source": [
    "## Calculating the persistence diagrams"
   ]
  },
  {
   "cell_type": "markdown",
   "id": "cd1f23b8",
   "metadata": {},
   "source": [
    "We use the filter function for cubical complexes to obtain the persistence diagrams. We obtain 4 diagrams from each image: dimension 0 and 1 of the original image and the inverted one. It takes around 10 minutes to run."
   ]
  },
  {
   "cell_type": "code",
   "execution_count": 8,
   "id": "fbeccd01",
   "metadata": {},
   "outputs": [],
   "source": [
    "cub_filtration = lambda image : gd.CubicalComplex(dimensions = [128,128], top_dimensional_cells=image)\n",
    "calculate_pd = lambda image : cub_filtration(image).persistence()\n",
    "\n",
    "train_pds = list(map(calculate_pd, train_gudhi))\n",
    "test_pds = list(map(calculate_pd, test_gudhi))\n",
    "train_pds_opp = list(map(calculate_pd, train_gudhi_opp))\n",
    "test_pds_opp = list(map(calculate_pd, test_gudhi_opp))"
   ]
  },
  {
   "cell_type": "code",
   "execution_count": 9,
   "id": "36f0125e",
   "metadata": {},
   "outputs": [],
   "source": [
    "#The representation module does not deal well with infinity, so we change it by 256.\n",
    "infty_proj = lambda x : 256 if ~np.isfinite(x) else x"
   ]
  },
  {
   "cell_type": "code",
   "execution_count": 10,
   "id": "c95964be",
   "metadata": {},
   "outputs": [],
   "source": [
    "intervals_of_dim_0 = lambda pd : np.array([[x[1][0], infty_proj(x[1][1])]  for x in pd if x[0]==0])\n",
    "train_pds_0 = list(map(intervals_of_dim_0, train_pds))\n",
    "test_pds_0 = list(map(intervals_of_dim_0, test_pds))\n",
    "train_pds_opp_0 = list(map(intervals_of_dim_0, train_pds_opp))\n",
    "test_pds_opp_0 = list(map(intervals_of_dim_0, test_pds_opp))"
   ]
  },
  {
   "cell_type": "code",
   "execution_count": 11,
   "id": "dea1869d",
   "metadata": {},
   "outputs": [],
   "source": [
    "intervals_of_dim_1 = lambda pd : np.array([[x[1][0], infty_proj(x[1][1])]  for x in pd if x[0]==1])\n",
    "train_pds_1 = list(map(intervals_of_dim_1, train_pds))\n",
    "test_pds_1 = list(map(intervals_of_dim_1, test_pds))\n",
    "train_pds_opp_1 = list(map(intervals_of_dim_1, train_pds_opp))\n",
    "test_pds_opp_1 = list(map(intervals_of_dim_1, test_pds_opp))"
   ]
  },
  {
   "cell_type": "markdown",
   "id": "cfb43484",
   "metadata": {},
   "source": [
    "## Classification with the Betti Curve"
   ]
  },
  {
   "cell_type": "markdown",
   "id": "885305cb",
   "metadata": {},
   "source": [
    "We perform a classification task using the betti curve and Random Forest. We concatenate the four betti curves obtained from each image, and then feed the classifier with them. It takes 1 minutes."
   ]
  },
  {
   "cell_type": "code",
   "execution_count": 12,
   "id": "d467edc5",
   "metadata": {},
   "outputs": [],
   "source": [
    "res = 100\n",
    "train_Btt_0 = [ex.GetBettiCurveFeature(pd, res) for pd in train_pds_0]\n",
    "train_Btt_1 = [ex.GetBettiCurveFeature(pd, res) for pd in train_pds_1]\n",
    "test_Btt_0 = [ex.GetBettiCurveFeature(pd, res) for pd in test_pds_0]\n",
    "test_Btt_1 = [ex.GetBettiCurveFeature(pd, res) for pd in test_pds_1]\n",
    "train_Btt_opp_0 = [ex.GetBettiCurveFeature(pd, res) for pd in train_pds_opp_0]\n",
    "train_Btt_opp_1 = [ex.GetBettiCurveFeature(pd, res) for pd in train_pds_opp_1]\n",
    "test_Btt_opp_0 = [ex.GetBettiCurveFeature(pd, res) for pd in test_pds_opp_0]\n",
    "test_Btt_opp_1 = [ex.GetBettiCurveFeature(pd, res) for pd in test_pds_opp_1]\n",
    "train_Btt = [np.concatenate([dgm0,dgm1,dgm2,dgm3]) for dgm0,dgm1,dgm2,dgm3 in zip(train_Btt_0, train_Btt_1, train_Btt_opp_0, train_Btt_opp_1)]\n",
    "test_Btt = [np.concatenate([dgm0,dgm1,dgm2,dgm3]) for dgm0,dgm1,dgm2,dgm3 in zip(test_Btt_0, test_Btt_1, test_Btt_opp_0, test_Btt_opp_1)]"
   ]
  },
  {
   "cell_type": "markdown",
   "id": "fa9efe27",
   "metadata": {},
   "source": [
    "Example of how the curves look like after the concatenation."
   ]
  },
  {
   "cell_type": "code",
   "execution_count": 13,
   "id": "6ce285be",
   "metadata": {},
   "outputs": [
    {
     "data": {
      "text/plain": [
       "[<matplotlib.lines.Line2D at 0x7f4cd6b68310>]"
      ]
     },
     "execution_count": 13,
     "metadata": {},
     "output_type": "execute_result"
    },
    {
     "data": {
      "image/png": "[encoded data removed]",
      "text/plain": [
       "<Figure size 432x288 with 1 Axes>"
      ]
     },
     "metadata": {
      "needs_background": "light"
     },
     "output_type": "display_data"
    }
   ],
   "source": [
    "plt.plot(train_Btt[0])"
   ]
  },
  {
   "cell_type": "code",
   "execution_count": 14,
   "id": "97652008",
   "metadata": {},
   "outputs": [],
   "source": [
    "classifier = RandomForestClassifier()\n",
    "classifier = classifier.fit(train_Btt, train_labels)   "
   ]
  },
  {
   "cell_type": "code",
   "execution_count": 24,
   "id": "2231e7fd",
   "metadata": {},
   "outputs": [
    {
     "data": {
      "text/plain": [
       "(400,)"
      ]
     },
     "execution_count": 24,
     "metadata": {},
     "output_type": "execute_result"
    }
   ],
   "source": [
    "train_Btt[0].shape"
   ]
  },
  {
   "cell_type": "code",
   "execution_count": 25,
   "id": "ad402a8d",
   "metadata": {},
   "outputs": [
    {
     "data": {
      "text/plain": [
       "(200, 400)"
      ]
     },
     "execution_count": 25,
     "metadata": {},
     "output_type": "execute_result"
    }
   ],
   "source": [
    "np.asarray(train_Btt).shape"
   ]
  },
  {
   "cell_type": "code",
   "execution_count": 22,
   "id": "8c146f1f",
   "metadata": {},
   "outputs": [
    {
     "data": {
      "text/plain": [
       "200"
      ]
     },
     "execution_count": 22,
     "metadata": {},
     "output_type": "execute_result"
    }
   ],
   "source": [
    "len(train_labels)"
   ]
  },
  {
   "cell_type": "markdown",
   "id": "87dda39b",
   "metadata": {},
   "source": [
    "In this example, the accuracy is the following"
   ]
  },
  {
   "cell_type": "code",
   "execution_count": 15,
   "id": "b94911fe",
   "metadata": {},
   "outputs": [
    {
     "name": "stdout",
     "output_type": "stream",
     "text": [
      "Train accuracy = 1.0\n",
      "Test accuracy  = 0.965\n"
     ]
    }
   ],
   "source": [
    "print(\"Train accuracy = \" + str(classifier.score(train_Btt, train_labels)))\n",
    "print(\"Test accuracy  = \" + str(classifier.score(test_Btt, test_labels))) "
   ]
  },
  {
   "cell_type": "markdown",
   "id": "91a64542",
   "metadata": {},
   "source": [
    "## Classification with PersStats"
   ]
  },
  {
   "cell_type": "markdown",
   "id": "0b59b6e8",
   "metadata": {},
   "source": [
    "We use here persistent stats. It takes less than one minute."
   ]
  },
  {
   "cell_type": "code",
   "execution_count": 16,
   "id": "ffa58ea6",
   "metadata": {},
   "outputs": [],
   "source": [
    "train_Sta_0 = [ex.GetPersStats(pd) for pd in train_pds_0]\n",
    "train_Sta_1 = [ex.GetPersStats(pd) for pd in train_pds_1]\n",
    "test_Sta_0 = [ex.GetPersStats(pd) for pd in test_pds_0]\n",
    "test_Sta_1 = [ex.GetPersStats(pd) for pd in test_pds_1]\n",
    "train_Sta_opp_0 = [ex.GetPersStats(pd) for pd in train_pds_opp_0]\n",
    "train_Sta_opp_1 = [ex.GetPersStats(pd) for pd in train_pds_opp_1]\n",
    "test_Sta_opp_0 = [ex.GetPersStats(pd) for pd in test_pds_opp_0]\n",
    "test_Sta_opp_1 = [ex.GetPersStats(pd) for pd in test_pds_opp_1]\n",
    "train_Sta = [np.concatenate([dgm0,dgm1,dgm2,dgm3]) for dgm0,dgm1,dgm2,dgm3 in zip(train_Btt_0, train_Btt_1, train_Btt_opp_0, train_Btt_opp_1)]\n",
    "test_Sta = [np.concatenate([dgm0,dgm1,dgm2,dgm3]) for dgm0,dgm1,dgm2,dgm3 in zip(test_Btt_0, test_Btt_1, test_Btt_opp_0, test_Btt_opp_1)]"
   ]
  },
  {
   "cell_type": "code",
   "execution_count": 17,
   "id": "fbd9ea9f",
   "metadata": {},
   "outputs": [],
   "source": [
    "classifier = RandomForestClassifier()\n",
    "classifier = classifier.fit(train_Sta, train_labels)  "
   ]
  },
  {
   "cell_type": "code",
   "execution_count": 18,
   "id": "6b83a8df",
   "metadata": {},
   "outputs": [
    {
     "name": "stdout",
     "output_type": "stream",
     "text": [
      "Train accuracy = 1.0\n",
      "Test accuracy  = 0.955\n"
     ]
    }
   ],
   "source": [
    "print(\"Train accuracy = \" + str(classifier.score(train_Btt, train_labels)))\n",
    "print(\"Test accuracy  = \" + str(classifier.score(test_Btt, test_labels))) "
   ]
  },
  {
   "cell_type": "markdown",
   "id": "1dcd954b",
   "metadata": {},
   "source": [
    "## Classification with Persistence Images"
   ]
  },
  {
   "cell_type": "markdown",
   "id": "38096a72",
   "metadata": {},
   "source": [
    "We use here persistent stats. It takes less than five minute."
   ]
  },
  {
   "cell_type": "code",
   "execution_count": 19,
   "id": "fd576cc2",
   "metadata": {},
   "outputs": [],
   "source": [
    "res = [6,6]\n",
    "\n",
    "train_PI_0 = [ex.GetPersImageFeature(pd,res) for pd in train_pds_0]\n",
    "train_PI_1 = [ex.GetPersImageFeature(pd,res) for pd in train_pds_1]\n",
    "test_PI_0 = [ex.GetPersImageFeature(pd,res) for pd in test_pds_0]\n",
    "test_PI_1 = [ex.GetPersImageFeature(pd,res) for pd in test_pds_1]\n",
    "train_PI_opp_0 = [ex.GetPersImageFeature(pd,res) for pd in train_pds_opp_0]\n",
    "train_PI_opp_1 = [ex.GetPersImageFeature(pd,res) for pd in train_pds_opp_1]\n",
    "test_PI_opp_0 = [ex.GetPersImageFeature(pd,res) for pd in test_pds_opp_0]\n",
    "test_PI_opp_1 = [ex.GetPersImageFeature(pd,res) for pd in test_pds_opp_1]\n",
    "train_PI = [np.concatenate([dgm0,dgm1,dgm2,dgm3]) for dgm0,dgm1,dgm2,dgm3 in zip(train_Btt_0, train_Btt_1, train_Btt_opp_0, train_Btt_opp_1)]\n",
    "test_PI = [np.concatenate([dgm0,dgm1,dgm2,dgm3]) for dgm0,dgm1,dgm2,dgm3 in zip(test_Btt_0, test_Btt_1, test_Btt_opp_0, test_Btt_opp_1)]"
   ]
  },
  {
   "cell_type": "code",
   "execution_count": 20,
   "id": "cd753980",
   "metadata": {},
   "outputs": [],
   "source": [
    "classifier = RandomForestClassifier()\n",
    "classifier = classifier.fit(train_PI, train_labels)  "
   ]
  },
  {
   "cell_type": "code",
   "execution_count": 21,
   "id": "111cff9a",
   "metadata": {},
   "outputs": [
    {
     "name": "stdout",
     "output_type": "stream",
     "text": [
      "Train accuracy = 1.0\n",
      "Test accuracy  = 0.95\n"
     ]
    }
   ],
   "source": [
    "print(\"Train accuracy = \" + str(classifier.score(train_PI, train_labels)))\n",
    "print(\"Test accuracy  = \" + str(classifier.score(test_PI, test_labels))) "
   ]
  },
  {
   "cell_type": "code",
   "execution_count": null,
   "id": "1936fa35",
   "metadata": {},
   "outputs": [],
   "source": []
  }
 ],
 "metadata": {
  "kernelspec": {
   "display_name": "Python 3 (ipykernel)",
   "language": "python",
   "name": "python3"
  },
  "language_info": {
   "codemirror_mode": {
    "name": "ipython",
    "version": 3
   },
   "file_extension": ".py",
   "mimetype": "text/x-python",
   "name": "python",
   "nbconvert_exporter": "python",
   "pygments_lexer": "ipython3",
   "version": "3.8.10"
  }
 },
 "nbformat": 4,
 "nbformat_minor": 5
}
