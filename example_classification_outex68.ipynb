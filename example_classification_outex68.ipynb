{
 "cells": [
  {
   "cell_type": "markdown",
   "id": "5ea1aac8",
   "metadata": {},
   "source": [
    "# Classifying textures in outex68 using TDA"
   ]
  },
  {
   "cell_type": "code",
   "execution_count": 1,
   "id": "fb3dd4ac",
   "metadata": {},
   "outputs": [],
   "source": [
    "from gtda.plotting import plot_heatmap\n",
    "from skimage import io\n",
    "import pandas as pd\n",
    "import numpy as np\n",
    "import os\n",
    "import matplotlib.pyplot as plt\n",
    "from sklearn.ensemble import RandomForestClassifier\n",
    "from sklearn.model_selection import cross_validate\n",
    "import gudhi as gd\n",
    "import gudhi.representations\n",
    "import extract_featurized_barcodes as ex"
   ]
  },
  {
   "cell_type": "markdown",
   "id": "9acdac8f",
   "metadata": {},
   "source": [
    "## Preparing the dataset"
   ]
  },
  {
   "cell_type": "markdown",
   "id": "258516bc",
   "metadata": {},
   "source": [
    "We will try to classify outex-68. First, we load the .bmp images as matrixes. It will take some seconds."
   ]
  },
  {
   "cell_type": "code",
   "execution_count": 2,
   "id": "38d07c80",
   "metadata": {},
   "outputs": [],
   "source": [
    "folder = 'Outex-TC-00024/images'\n",
    "images_names = os.listdir(folder)\n",
    "images_names = list(filter(lambda x : x[0]!='.', images_names))"
   ]
  },
  {
   "cell_type": "code",
   "execution_count": 3,
   "id": "69ed921b",
   "metadata": {},
   "outputs": [],
   "source": [
    "images_matrixes = np.array(list(map(lambda x : io.imread(folder+'/'+x), images_names)), dtype=float)"
   ]
  },
  {
   "cell_type": "markdown",
   "id": "f9cf4e61",
   "metadata": {},
   "source": [
    "Then, we pick the names of the training and test images and their labels."
   ]
  },
  {
   "cell_type": "code",
   "execution_count": 4,
   "id": "eb8ed23d",
   "metadata": {},
   "outputs": [],
   "source": [
    "train_names = pd.read_csv(\"/home/manu/review/Outex-TC-00024/000/train.txt\", sep=\" \", usecols=[0]).to_numpy().flatten().tolist()\n",
    "train_labels = pd.read_csv(\"/home/manu/review/Outex-TC-00024/000/train.txt\", sep=\" \", usecols=[1]).to_numpy().flatten().tolist()\n",
    "test_names = pd.read_csv(\"/home/manu/review/Outex-TC-00024/000/test.txt\", sep=\" \", usecols=[0]).to_numpy().flatten().tolist()\n",
    "test_labels = pd.read_csv(\"/home/manu/review/Outex-TC-00024/000/test.txt\", sep=\" \", usecols=[1]).to_numpy().flatten().tolist()"
   ]
  },
  {
   "cell_type": "markdown",
   "id": "492de645",
   "metadata": {},
   "source": [
    "Using the file names, we will load the train and test images. Note that they will keep the same order than the labels. We will also use the images with the greyscale inverted."
   ]
  },
  {
   "cell_type": "code",
   "execution_count": 5,
   "id": "04a70fad",
   "metadata": {},
   "outputs": [],
   "source": [
    "train_indexes = list(map(lambda x : images_names.index(x), train_names))\n",
    "test_indexes = list(map(lambda x : images_names.index(x), test_names))"
   ]
  },
  {
   "cell_type": "markdown",
   "id": "ba6ffe94",
   "metadata": {},
   "source": [
    "We are using only 10 classes from the original dataset. In order to perform the experiment with the 68 classes, comment the following cell."
   ]
  },
  {
   "cell_type": "markdown",
   "id": "a054c30d",
   "metadata": {},
   "source": [
    "from numpy.random import choice\n",
    "labels = np.array(list(set(test_labels)))\n",
    "labels = choice(labels, size=(10), replace = False)\n",
    "    \n",
    "train_indexes = [train_indexes[i] for i in range(len(train_indexes)) if train_labels[i] in labels]\n",
    "train_labels = [i for i in train_labels if i in labels]\n",
    "test_indexes = [test_indexes[i] for i in range(len(test_indexes)) if test_labels[i] in labels]\n",
    "test_labels = [i for i in test_labels if i in labels]"
   ]
  },
  {
   "cell_type": "markdown",
   "id": "75510587",
   "metadata": {},
   "source": [
    "Finally, we load the images and their inverse."
   ]
  },
  {
   "cell_type": "code",
   "execution_count": 6,
   "id": "8f8e2b16",
   "metadata": {},
   "outputs": [],
   "source": [
    "images_gudhi = np.array(list(map(lambda x : x.reshape(128*128,1), images_matrixes)))\n",
    "train_gudhi =  images_gudhi[train_indexes]\n",
    "test_gudhi = images_gudhi[test_indexes]\n",
    "\n",
    "train_gudhi_opp =  255-train_gudhi\n",
    "test_gudhi_opp = 255-train_gudhi"
   ]
  },
  {
   "cell_type": "markdown",
   "id": "2d79dc2d",
   "metadata": {},
   "source": [
    "## Calculating the persistence diagrams"
   ]
  },
  {
   "cell_type": "markdown",
   "id": "cd1f23b8",
   "metadata": {},
   "source": [
    "We use the filter function for cubical complexes to obtain the persistence diagrams. We obtain 4 diagrams from each image: dimension 0 and 1 of the original image and the inverted one. It takes around 10 minutes to run."
   ]
  },
  {
   "cell_type": "code",
   "execution_count": 7,
   "id": "fbeccd01",
   "metadata": {},
   "outputs": [],
   "source": [
    "cub_filtration = lambda image : gd.CubicalComplex(dimensions = [128,128], top_dimensional_cells=image)\n",
    "calculate_pd = lambda image : cub_filtration(image).persistence()\n",
    "\n",
    "train_pds = list(map(calculate_pd, train_gudhi))\n",
    "test_pds = list(map(calculate_pd, test_gudhi))\n",
    "train_pds_opp = list(map(calculate_pd, train_gudhi_opp))\n",
    "test_pds_opp = list(map(calculate_pd, test_gudhi_opp))"
   ]
  },
  {
   "cell_type": "code",
   "execution_count": 8,
   "id": "36f0125e",
   "metadata": {},
   "outputs": [],
   "source": [
    "#The representation module does not deal well with infinity, so we change it by 256.\n",
    "infty_proj = lambda x : 256 if ~np.isfinite(x) else x"
   ]
  },
  {
   "cell_type": "code",
   "execution_count": 9,
   "id": "c95964be",
   "metadata": {},
   "outputs": [],
   "source": [
    "intervals_of_dim_0 = lambda pd : np.array([[x[1][0], infty_proj(x[1][1])]  for x in pd if x[0]==0])\n",
    "train_pds_0 = list(map(intervals_of_dim_0, train_pds))\n",
    "test_pds_0 = list(map(intervals_of_dim_0, test_pds))\n",
    "train_pds_opp_0 = list(map(intervals_of_dim_0, train_pds_opp))\n",
    "test_pds_opp_0 = list(map(intervals_of_dim_0, test_pds_opp))"
   ]
  },
  {
   "cell_type": "code",
   "execution_count": 10,
   "id": "dea1869d",
   "metadata": {},
   "outputs": [],
   "source": [
    "intervals_of_dim_1 = lambda pd : np.array([[x[1][0], infty_proj(x[1][1])]  for x in pd if x[0]==1])\n",
    "train_pds_1 = list(map(intervals_of_dim_1, train_pds))\n",
    "test_pds_1 = list(map(intervals_of_dim_1, test_pds))\n",
    "train_pds_opp_1 = list(map(intervals_of_dim_1, train_pds_opp))\n",
    "test_pds_opp_1 = list(map(intervals_of_dim_1, test_pds_opp))"
   ]
  },
  {
   "cell_type": "markdown",
   "id": "cfb43484",
   "metadata": {},
   "source": [
    "## Classification with the Betti Curve"
   ]
  },
  {
   "cell_type": "markdown",
   "id": "885305cb",
   "metadata": {},
   "source": [
    "We perform a classification task using the betti curve and Random Forest. We concatenate the four betti curves obtained from each image, and then feed the classifier with them. It takes 1 minutes."
   ]
  },
  {
   "cell_type": "code",
   "execution_count": 11,
   "id": "d467edc5",
   "metadata": {},
   "outputs": [],
   "source": [
    "res = 100\n",
    "train_Btt_0 = [ex.GetBettiCurveFeature(pd, res) for pd in train_pds_0]\n",
    "train_Btt_1 = [ex.GetBettiCurveFeature(pd, res) for pd in train_pds_1]\n",
    "test_Btt_0 = [ex.GetBettiCurveFeature(pd, res) for pd in test_pds_0]\n",
    "test_Btt_1 = [ex.GetBettiCurveFeature(pd, res) for pd in test_pds_1]\n",
    "train_Btt_opp_0 = [ex.GetBettiCurveFeature(pd, res) for pd in train_pds_opp_0]\n",
    "train_Btt_opp_1 = [ex.GetBettiCurveFeature(pd, res) for pd in train_pds_opp_1]\n",
    "test_Btt_opp_0 = [ex.GetBettiCurveFeature(pd, res) for pd in test_pds_opp_0]\n",
    "test_Btt_opp_1 = [ex.GetBettiCurveFeature(pd, res) for pd in test_pds_opp_1]\n",
    "train_Btt = [np.concatenate([dgm0,dgm1,dgm2,dgm3]) for dgm0,dgm1,dgm2,dgm3 in zip(train_Btt_0, train_Btt_1, train_Btt_opp_0, train_Btt_opp_1)]\n",
    "test_Btt = [np.concatenate([dgm0,dgm1,dgm2,dgm3]) for dgm0,dgm1,dgm2,dgm3 in zip(test_Btt_0, test_Btt_1, test_Btt_opp_0, test_Btt_opp_1)]"
   ]
  },
  {
   "cell_type": "markdown",
   "id": "fa9efe27",
   "metadata": {},
   "source": [
    "Example of how the curves look like after the concatenation."
   ]
  },
  {
   "cell_type": "code",
   "execution_count": 12,
   "id": "6ce285be",
   "metadata": {},
   "outputs": [
    {
     "data": {
      "text/plain": [
       "[<matplotlib.lines.Line2D at 0x7fcca5303130>]"
      ]
     },
     "execution_count": 12,
     "metadata": {},
     "output_type": "execute_result"
    },
    {
     "data": {
      "image/png": "[encoded data removed]",
      "text/plain": [
       "<Figure size 432x288 with 1 Axes>"
      ]
     },
     "metadata": {
      "needs_background": "light"
     },
     "output_type": "display_data"
    }
   ],
   "source": [
    "plt.plot(train_Btt[0])"
   ]
  },
  {
   "cell_type": "code",
   "execution_count": 13,
   "id": "97652008",
   "metadata": {},
   "outputs": [],
   "source": [
    "classifier = RandomForestClassifier()\n",
    "classifier = classifier.fit(train_Btt, train_labels)   "
   ]
  },
  {
   "cell_type": "code",
   "execution_count": 14,
   "id": "2231e7fd",
   "metadata": {},
   "outputs": [
    {
     "data": {
      "text/plain": [
       "(400,)"
      ]
     },
     "execution_count": 14,
     "metadata": {},
     "output_type": "execute_result"
    }
   ],
   "source": [
    "train_Btt[0].shape"
   ]
  },
  {
   "cell_type": "code",
   "execution_count": 15,
   "id": "ad402a8d",
   "metadata": {},
   "outputs": [
    {
     "data": {
      "text/plain": [
       "(1360, 400)"
      ]
     },
     "execution_count": 15,
     "metadata": {},
     "output_type": "execute_result"
    }
   ],
   "source": [
    "np.asarray(train_Btt).shape"
   ]
  },
  {
   "cell_type": "code",
   "execution_count": 16,
   "id": "8c146f1f",
   "metadata": {},
   "outputs": [
    {
     "data": {
      "text/plain": [
       "1360"
      ]
     },
     "execution_count": 16,
     "metadata": {},
     "output_type": "execute_result"
    }
   ],
   "source": [
    "len(train_labels)"
   ]
  },
  {
   "cell_type": "markdown",
   "id": "87dda39b",
   "metadata": {},
   "source": [
    "In this example, the accuracy is the following"
   ]
  },
  {
   "cell_type": "code",
   "execution_count": 17,
   "id": "b94911fe",
   "metadata": {},
   "outputs": [
    {
     "name": "stdout",
     "output_type": "stream",
     "text": [
      "Train accuracy = 1.0\n",
      "Test accuracy  = 0.8801470588235294\n"
     ]
    }
   ],
   "source": [
    "print(\"Train accuracy = \" + str(classifier.score(train_Btt, train_labels)))\n",
    "print(\"Test accuracy  = \" + str(classifier.score(test_Btt, test_labels))) "
   ]
  },
  {
   "cell_type": "markdown",
   "id": "91a64542",
   "metadata": {},
   "source": [
    "## Classification with PersStats"
   ]
  },
  {
   "cell_type": "markdown",
   "id": "0b59b6e8",
   "metadata": {},
   "source": [
    "We use here persistent stats. It takes less than one minute."
   ]
  },
  {
   "cell_type": "code",
   "execution_count": 18,
   "id": "ffa58ea6",
   "metadata": {},
   "outputs": [],
   "source": [
    "train_Sta_0 = [ex.GetPersStats(pd) for pd in train_pds_0]\n",
    "train_Sta_1 = [ex.GetPersStats(pd) for pd in train_pds_1]\n",
    "test_Sta_0 = [ex.GetPersStats(pd) for pd in test_pds_0]\n",
    "test_Sta_1 = [ex.GetPersStats(pd) for pd in test_pds_1]\n",
    "train_Sta_opp_0 = [ex.GetPersStats(pd) for pd in train_pds_opp_0]\n",
    "train_Sta_opp_1 = [ex.GetPersStats(pd) for pd in train_pds_opp_1]\n",
    "test_Sta_opp_0 = [ex.GetPersStats(pd) for pd in test_pds_opp_0]\n",
    "test_Sta_opp_1 = [ex.GetPersStats(pd) for pd in test_pds_opp_1]\n",
    "train_Sta = [np.concatenate([dgm0,dgm1,dgm2,dgm3]) for dgm0,dgm1,dgm2,dgm3 in zip(train_Sta_0, train_Sta_1, train_Sta_opp_0, train_Sta_opp_1)]\n",
    "test_Sta = [np.concatenate([dgm0,dgm1,dgm2,dgm3]) for dgm0,dgm1,dgm2,dgm3 in zip(test_Sta_0, test_Sta_1, test_Sta_opp_0, test_Sta_opp_1)]"
   ]
  },
  {
   "cell_type": "code",
   "execution_count": 19,
   "id": "fbd9ea9f",
   "metadata": {},
   "outputs": [],
   "source": [
    "classifier = RandomForestClassifier()\n",
    "classifier = classifier.fit(train_Sta, train_labels)  "
   ]
  },
  {
   "cell_type": "code",
   "execution_count": 20,
   "id": "6b83a8df",
   "metadata": {},
   "outputs": [
    {
     "name": "stdout",
     "output_type": "stream",
     "text": [
      "Train accuracy = 1.0\n",
      "Test accuracy  = 0.8433823529411765\n"
     ]
    }
   ],
   "source": [
    "print(\"Train accuracy = \" + str(classifier.score(train_Sta, train_labels)))\n",
    "print(\"Test accuracy  = \" + str(classifier.score(test_Sta, test_labels))) "
   ]
  },
  {
   "cell_type": "markdown",
   "id": "1dcd954b",
   "metadata": {},
   "source": [
    "## Classification with Persistence Images"
   ]
  },
  {
   "cell_type": "markdown",
   "id": "38096a72",
   "metadata": {},
   "source": [
    "We use here persistent stats. It takes less than five minute."
   ]
  },
  {
   "cell_type": "code",
   "execution_count": 21,
   "id": "fd576cc2",
   "metadata": {},
   "outputs": [],
   "source": [
    "res = [6,6]\n",
    "\n",
    "train_PI_0 = [ex.GetPersImageFeature(pd,res) for pd in train_pds_0]\n",
    "train_PI_1 = [ex.GetPersImageFeature(pd,res) for pd in train_pds_1]\n",
    "test_PI_0 = [ex.GetPersImageFeature(pd,res) for pd in test_pds_0]\n",
    "test_PI_1 = [ex.GetPersImageFeature(pd,res) for pd in test_pds_1]\n",
    "train_PI_opp_0 = [ex.GetPersImageFeature(pd,res) for pd in train_pds_opp_0]\n",
    "train_PI_opp_1 = [ex.GetPersImageFeature(pd,res) for pd in train_pds_opp_1]\n",
    "test_PI_opp_0 = [ex.GetPersImageFeature(pd,res) for pd in test_pds_opp_0]\n",
    "test_PI_opp_1 = [ex.GetPersImageFeature(pd,res) for pd in test_pds_opp_1]\n",
    "train_PI = [np.concatenate([dgm0,dgm1,dgm2,dgm3]) for dgm0,dgm1,dgm2,dgm3 in zip(train_PI_0, train_PI_1, train_PI_opp_0, train_PI_opp_1)]\n",
    "test_PI = [np.concatenate([dgm0,dgm1,dgm2,dgm3]) for dgm0,dgm1,dgm2,dgm3 in zip(test_PI_0, test_PI_1, test_PI_opp_0, test_PI_opp_1)]"
   ]
  },
  {
   "cell_type": "code",
   "execution_count": 22,
   "id": "cd753980",
   "metadata": {},
   "outputs": [],
   "source": [
    "classifier = RandomForestClassifier()\n",
    "classifier = classifier.fit(train_PI, train_labels)  "
   ]
  },
  {
   "cell_type": "code",
   "execution_count": 23,
   "id": "111cff9a",
   "metadata": {},
   "outputs": [
    {
     "name": "stdout",
     "output_type": "stream",
     "text": [
      "Train accuracy = 1.0\n",
      "Test accuracy  = 0.8852941176470588\n"
     ]
    }
   ],
   "source": [
    "print(\"Train accuracy = \" + str(classifier.score(train_PI, train_labels)))\n",
    "print(\"Test accuracy  = \" + str(classifier.score(test_PI, test_labels))) "
   ]
  },
  {
   "cell_type": "markdown",
   "id": "2e216e53",
   "metadata": {},
   "source": [
    "## Classification with Entropy Curve"
   ]
  },
  {
   "cell_type": "markdown",
   "id": "43528a73",
   "metadata": {},
   "source": [
    "We use here persistent stats. It takes less than five minute."
   ]
  },
  {
   "cell_type": "code",
   "execution_count": 24,
   "id": "cca311f5",
   "metadata": {},
   "outputs": [],
   "source": [
    "train_E_0 = [ex.GetPersEntropyFeature(pd) for pd in train_pds_0]\n",
    "train_E_1 = [ex.GetPersEntropyFeature(pd) for pd in train_pds_1]\n",
    "test_E_0 = [ex.GetPersEntropyFeature(pd) for pd in test_pds_0]\n",
    "test_E_1 = [ex.GetPersEntropyFeature(pd) for pd in test_pds_1]\n",
    "train_E_opp_0 = [ex.GetPersEntropyFeature(pd) for pd in train_pds_opp_0]\n",
    "train_E_opp_1 = [ex.GetPersEntropyFeature(pd) for pd in train_pds_opp_1]\n",
    "test_E_opp_0 = [ex.GetPersEntropyFeature(pd) for pd in test_pds_opp_0]\n",
    "test_E_opp_1 = [ex.GetPersEntropyFeature(pd) for pd in test_pds_opp_1]\n",
    "train_E = [np.concatenate([dgm0,dgm1,dgm2,dgm3]) for dgm0,dgm1,dgm2,dgm3 in zip(train_E_0, train_E_1, train_E_opp_0, train_E_opp_1)]\n",
    "test_E = [np.concatenate([dgm0,dgm1,dgm2,dgm3]) for dgm0,dgm1,dgm2,dgm3 in zip(test_E_0, test_E_1, test_E_opp_0, test_E_opp_1)]"
   ]
  },
  {
   "cell_type": "code",
   "execution_count": 25,
   "id": "f5fb41d4",
   "metadata": {},
   "outputs": [],
   "source": [
    "classifier = RandomForestClassifier()\n",
    "classifier = classifier.fit(train_E, train_labels)  "
   ]
  },
  {
   "cell_type": "code",
   "execution_count": 26,
   "id": "2d088d7c",
   "metadata": {},
   "outputs": [
    {
     "name": "stdout",
     "output_type": "stream",
     "text": [
      "Train accuracy = 1.0\n",
      "Test accuracy  = 0.7948529411764705\n"
     ]
    }
   ],
   "source": [
    "print(\"Train accuracy = \" + str(classifier.score(train_E, train_labels)))\n",
    "print(\"Test accuracy  = \" + str(classifier.score(test_E, test_labels))) "
   ]
  },
  {
   "cell_type": "markdown",
   "id": "e654e10f",
   "metadata": {},
   "source": [
    "## Classification with Life Span curve"
   ]
  },
  {
   "cell_type": "code",
   "execution_count": 27,
   "id": "aa468557",
   "metadata": {},
   "outputs": [],
   "source": [
    "train_Life_0 = [ex.GetPersLifespanFeature(pd) for pd in train_pds_0]\n",
    "train_Life_1 = [ex.GetPersLifespanFeature(pd) for pd in train_pds_1]\n",
    "test_Life_0 = [ex.GetPersLifespanFeature(pd) for pd in test_pds_0]\n",
    "test_Life_1 = [ex.GetPersLifespanFeature(pd) for pd in test_pds_1]\n",
    "train_Life_opp_0 = [ex.GetPersLifespanFeature(pd) for pd in train_pds_opp_0]\n",
    "train_Life_opp_1 = [ex.GetPersLifespanFeature(pd) for pd in train_pds_opp_1]\n",
    "test_Life_opp_0 = [ex.GetPersLifespanFeature(pd) for pd in test_pds_opp_0]\n",
    "test_Life_opp_1 = [ex.GetPersLifespanFeature(pd) for pd in test_pds_opp_1]\n",
    "train_Life = [np.concatenate([dgm0,dgm1,dgm2,dgm3]) for dgm0,dgm1,dgm2,dgm3 in zip(train_Life_0, train_Life_1, train_Life_opp_0, train_Life_opp_1)]\n",
    "test_Life = [np.concatenate([dgm0,dgm1,dgm2,dgm3]) for dgm0,dgm1,dgm2,dgm3 in zip(test_Life_0, test_Life_1, test_Life_opp_0, test_Life_opp_1)]"
   ]
  },
  {
   "cell_type": "code",
   "execution_count": 28,
   "id": "539f4104",
   "metadata": {},
   "outputs": [],
   "source": [
    "classifier = RandomForestClassifier()\n",
    "classifier = classifier.fit(train_Life, train_labels)  "
   ]
  },
  {
   "cell_type": "code",
   "execution_count": 29,
   "id": "cfb45f24",
   "metadata": {},
   "outputs": [
    {
     "name": "stdout",
     "output_type": "stream",
     "text": [
      "Train accuracy = 1.0\n",
      "Test accuracy  = 0.9095588235294118\n"
     ]
    }
   ],
   "source": [
    "print(\"Train accuracy = \" + str(classifier.score(train_Life, train_labels)))\n",
    "print(\"Test accuracy  = \" + str(classifier.score(test_Life, test_labels))) "
   ]
  },
  {
   "cell_type": "markdown",
   "id": "33f6d427",
   "metadata": {},
   "source": [
    "## Classification with Tropical Coordinates"
   ]
  },
  {
   "cell_type": "code",
   "execution_count": 30,
   "id": "075ce721",
   "metadata": {},
   "outputs": [],
   "source": [
    "train_T_0 = [ex.GetPersTropicalCoordinatesFeature(pd) for pd in train_pds_0]\n",
    "train_T_1 = [ex.GetPersTropicalCoordinatesFeature(pd) for pd in train_pds_1]\n",
    "test_T_0 = [ex.GetPersTropicalCoordinatesFeature(pd) for pd in test_pds_0]\n",
    "test_T_1 = [ex.GetPersTropicalCoordinatesFeature(pd) for pd in test_pds_1]\n",
    "train_T_opp_0 = [ex.GetPersTropicalCoordinatesFeature(pd) for pd in train_pds_opp_0]\n",
    "train_T_opp_1 = [ex.GetPersTropicalCoordinatesFeature(pd) for pd in train_pds_opp_1]\n",
    "test_T_opp_0 = [ex.GetPersTropicalCoordinatesFeature(pd) for pd in test_pds_opp_0]\n",
    "test_T_opp_1 = [ex.GetPersTropicalCoordinatesFeature(pd) for pd in test_pds_opp_1]\n",
    "train_T = [np.concatenate([dgm0,dgm1,dgm2,dgm3]) for dgm0,dgm1,dgm2,dgm3 in zip(train_T_0, train_T_1, train_T_opp_0, train_T_opp_1)]\n",
    "test_T = [np.concatenate([dgm0,dgm1,dgm2,dgm3]) for dgm0,dgm1,dgm2,dgm3 in zip(test_T_0, test_T_1, test_T_opp_0, test_T_opp_1)]"
   ]
  },
  {
   "cell_type": "code",
   "execution_count": 31,
   "id": "c5e46894",
   "metadata": {},
   "outputs": [],
   "source": [
    "classifier = RandomForestClassifier()\n",
    "classifier = classifier.fit(train_T, train_labels)  "
   ]
  },
  {
   "cell_type": "code",
   "execution_count": 32,
   "id": "ded734cc",
   "metadata": {},
   "outputs": [
    {
     "name": "stdout",
     "output_type": "stream",
     "text": [
      "Train accuracy = 1.0\n",
      "Test accuracy  = 0.8375\n"
     ]
    }
   ],
   "source": [
    "print(\"Train accuracy = \" + str(classifier.score(train_T, train_labels)))\n",
    "print(\"Test accuracy  = \" + str(classifier.score(test_T, test_labels))) "
   ]
  },
  {
   "cell_type": "markdown",
   "id": "7fc084f7",
   "metadata": {},
   "source": [
    "## Classification with Atol"
   ]
  },
  {
   "cell_type": "code",
   "execution_count": 33,
   "id": "e4cb0ddf",
   "metadata": {},
   "outputs": [],
   "source": [
    "from sklearn.cluster import KMeans\n",
    "quantiser = KMeans(n_clusters=2, random_state=202006)\n",
    "\n",
    "train_A_0 = [ex.GetAtolFeature(pd, quantiser) for pd in train_pds_0]\n",
    "train_A_1 = [ex.GetAtolFeature(pd, quantiser) for pd in train_pds_1]\n",
    "test_A_0 = [ex.GetAtolFeature(pd, quantiser) for pd in test_pds_0]\n",
    "test_A_1 = [ex.GetAtolFeature(pd, quantiser) for pd in test_pds_1]\n",
    "train_A_opp_0 = [ex.GetAtolFeature(pd, quantiser) for pd in train_pds_opp_0]\n",
    "train_A_opp_1 = [ex.GetAtolFeature(pd, quantiser) for pd in train_pds_opp_1]\n",
    "test_A_opp_0 = [ex.GetAtolFeature(pd, quantiser) for pd in test_pds_opp_0]\n",
    "test_A_opp_1 = [ex.GetAtolFeature(pd, quantiser) for pd in test_pds_opp_1]\n",
    "train_A = [np.concatenate([dgm0,dgm1,dgm2,dgm3]) for dgm0,dgm1,dgm2,dgm3 in zip(train_A_0, train_A_1, train_A_opp_0, train_A_opp_1)]\n",
    "test_A = [np.concatenate([dgm0,dgm1,dgm2,dgm3]) for dgm0,dgm1,dgm2,dgm3 in zip(test_A_0, test_A_1, test_A_opp_0, test_A_opp_1)]"
   ]
  },
  {
   "cell_type": "code",
   "execution_count": 34,
   "id": "3125f2ff",
   "metadata": {},
   "outputs": [],
   "source": [
    "classifier = RandomForestClassifier()\n",
    "classifier = classifier.fit(train_A, train_labels) "
   ]
  },
  {
   "cell_type": "code",
   "execution_count": 35,
   "id": "59d5778b",
   "metadata": {},
   "outputs": [
    {
     "name": "stdout",
     "output_type": "stream",
     "text": [
      "Train accuracy = 1.0\n",
      "Test accuracy  = 0.6595588235294118\n"
     ]
    }
   ],
   "source": [
    "print(\"Train accuracy = \" + str(classifier.score(train_A, train_labels)))\n",
    "print(\"Test accuracy  = \" + str(classifier.score(test_A, test_labels))) "
   ]
  },
  {
   "cell_type": "markdown",
   "id": "fbaf9318",
   "metadata": {},
   "source": [
    " ## Classification with Persistence Landscapes"
   ]
  },
  {
   "cell_type": "code",
   "execution_count": 36,
   "id": "773e23e7",
   "metadata": {},
   "outputs": [],
   "source": [
    "train_Land_0 = [ex.GetPersLandscapeFeature(pd, num=20) for pd in train_pds_0]\n",
    "train_Land_1 = [ex.GetPersLandscapeFeature(pd, num=20) for pd in train_pds_1]\n",
    "test_Land_0 = [ex.GetPersLandscapeFeature(pd, num=20) for pd in test_pds_0]\n",
    "test_Land_1 = [ex.GetPersLandscapeFeature(pd, num=20) for pd in test_pds_1]\n",
    "train_Land_opp_0 = [ex.GetPersLandscapeFeature(pd, num=20) for pd in train_pds_opp_0]\n",
    "train_Land_opp_1 = [ex.GetPersLandscapeFeature(pd, num=20) for pd in train_pds_opp_1]\n",
    "test_Land_opp_0 = [ex.GetPersLandscapeFeature(pd, num=20) for pd in test_pds_opp_0]\n",
    "test_Land_opp_1 = [ex.GetPersLandscapeFeature(pd, num=20) for pd in test_pds_opp_1]\n",
    "train_Land = [np.concatenate([dgm0,dgm1,dgm2,dgm3]) for dgm0,dgm1,dgm2,dgm3 in zip(train_Land_0, train_Land_1, train_Land_opp_0, train_Land_opp_1)]\n",
    "test_Land = [np.concatenate([dgm0,dgm1,dgm2,dgm3]) for dgm0,dgm1,dgm2,dgm3 in zip(test_Land_0, test_Land_1, test_Land_opp_0, test_Land_opp_1)]"
   ]
  },
  {
   "cell_type": "code",
   "execution_count": 37,
   "id": "06bfc066",
   "metadata": {},
   "outputs": [],
   "source": [
    "classifier = RandomForestClassifier()\n",
    "classifier = classifier.fit(train_Land, train_labels) "
   ]
  },
  {
   "cell_type": "code",
   "execution_count": 38,
   "id": "c9dc26d3",
   "metadata": {},
   "outputs": [
    {
     "name": "stdout",
     "output_type": "stream",
     "text": [
      "Train accuracy = 1.0\n",
      "Test accuracy  = 0.8588235294117647\n"
     ]
    }
   ],
   "source": [
    "print(\"Train accuracy = \" + str(classifier.score(train_Land, train_labels)))\n",
    "print(\"Test accuracy  = \" + str(classifier.score(test_Land, test_labels))) "
   ]
  },
  {
   "cell_type": "markdown",
   "id": "8dc6561a",
   "metadata": {},
   "source": [
    " ## Classification with Persistence Silhouettes"
   ]
  },
  {
   "cell_type": "code",
   "execution_count": 39,
   "id": "3ac98f87",
   "metadata": {},
   "outputs": [],
   "source": [
    "train_Sil_0 = [ex.GetPersSilhouetteFeature(pd) for pd in train_pds_0]\n",
    "train_Sil_1 = [ex.GetPersSilhouetteFeature(pd) for pd in train_pds_1]\n",
    "test_Sil_0 = [ex.GetPersSilhouetteFeature(pd) for pd in test_pds_0]\n",
    "test_Sil_1 = [ex.GetPersSilhouetteFeature(pd) for pd in test_pds_1]\n",
    "train_Sil_opp_0 = [ex.GetPersSilhouetteFeature(pd) for pd in train_pds_opp_0]\n",
    "train_Sil_opp_1 = [ex.GetPersSilhouetteFeature(pd) for pd in train_pds_opp_1]\n",
    "test_Sil_opp_0 = [ex.GetPersSilhouetteFeature(pd) for pd in test_pds_opp_0]\n",
    "test_Sil_opp_1 = [ex.GetPersSilhouetteFeature(pd) for pd in test_pds_opp_1]\n",
    "train_Sil = [np.concatenate([dgm0,dgm1,dgm2,dgm3]) for dgm0,dgm1,dgm2,dgm3 in zip(train_Sil_0, train_Sil_1, train_Sil_opp_0, train_Sil_opp_1)]\n",
    "test_Sil = [np.concatenate([dgm0,dgm1,dgm2,dgm3]) for dgm0,dgm1,dgm2,dgm3 in zip(test_Sil_0, test_Sil_1, test_Sil_opp_0, test_Sil_opp_1)]"
   ]
  },
  {
   "cell_type": "code",
   "execution_count": 40,
   "id": "ee57174e",
   "metadata": {},
   "outputs": [],
   "source": [
    "classifier = RandomForestClassifier()\n",
    "classifier = classifier.fit(train_Sil, train_labels) "
   ]
  },
  {
   "cell_type": "code",
   "execution_count": 41,
   "id": "cbed740d",
   "metadata": {},
   "outputs": [
    {
     "name": "stdout",
     "output_type": "stream",
     "text": [
      "Train accuracy = 1.0\n",
      "Test accuracy  = 0.8669117647058824\n"
     ]
    }
   ],
   "source": [
    "print(\"Train accuracy = \" + str(classifier.score(train_Sil, train_labels)))\n",
    "print(\"Test accuracy  = \" + str(classifier.score(test_Sil, test_labels))) "
   ]
  },
  {
   "cell_type": "markdown",
   "id": "67a07064",
   "metadata": {},
   "source": [
    " ## Classification with Carlsson Coordinates"
   ]
  },
  {
   "cell_type": "code",
   "execution_count": 42,
   "id": "22f07487",
   "metadata": {},
   "outputs": [],
   "source": [
    "train_CC_0 = [ex.GetCarlssonCoordinatesFeature(pd) for pd in train_pds_0]\n",
    "train_CC_1 = [ex.GetCarlssonCoordinatesFeature(pd) for pd in train_pds_1]\n",
    "test_CC_0 = [ex.GetCarlssonCoordinatesFeature(pd) for pd in test_pds_0]\n",
    "test_CC_1 = [ex.GetCarlssonCoordinatesFeature(pd) for pd in test_pds_1]\n",
    "train_CC_opp_0 = [ex.GetCarlssonCoordinatesFeature(pd) for pd in train_pds_opp_0]\n",
    "train_CC_opp_1 = [ex.GetCarlssonCoordinatesFeature(pd) for pd in train_pds_opp_1]\n",
    "test_CC_opp_0 = [ex.GetCarlssonCoordinatesFeature(pd) for pd in test_pds_opp_0]\n",
    "test_CC_opp_1 = [ex.GetCarlssonCoordinatesFeature(pd) for pd in test_pds_opp_1]\n",
    "train_CC = [np.concatenate([dgm0,dgm1,dgm2,dgm3]) for dgm0,dgm1,dgm2,dgm3 in zip(train_CC_0, train_CC_1, train_CC_opp_0, train_CC_opp_1)]\n",
    "test_CC = [np.concatenate([dgm0,dgm1,dgm2,dgm3]) for dgm0,dgm1,dgm2,dgm3 in zip(test_CC_0, test_CC_1, test_CC_opp_0, test_CC_opp_1)]"
   ]
  },
  {
   "cell_type": "code",
   "execution_count": 43,
   "id": "35512539",
   "metadata": {},
   "outputs": [],
   "source": [
    "classifier = RandomForestClassifier()\n",
    "classifier = classifier.fit(train_CC, train_labels) "
   ]
  },
  {
   "cell_type": "code",
   "execution_count": 44,
   "id": "31b6315b",
   "metadata": {},
   "outputs": [
    {
     "name": "stdout",
     "output_type": "stream",
     "text": [
      "Train accuracy = 1.0\n",
      "Test accuracy  = 0.763235294117647\n"
     ]
    }
   ],
   "source": [
    "print(\"Train accuracy = \" + str(classifier.score(train_CC, train_labels)))\n",
    "print(\"Test accuracy  = \" + str(classifier.score(test_CC, test_labels))) "
   ]
  },
  {
   "cell_type": "markdown",
   "id": "9ecb89e6",
   "metadata": {},
   "source": [
    " ## Classification with Topological Vectors"
   ]
  },
  {
   "cell_type": "code",
   "execution_count": 45,
   "id": "f2dd216e",
   "metadata": {},
   "outputs": [
    {
     "name": "stderr",
     "output_type": "stream",
     "text": [
      "/home/manu/review/review/lib/python3.8/site-packages/sklearn/neighbors/_distance_metric.py:10: FutureWarning: sklearn.neighbors.DistanceMetric has been moved to sklearn.metrics.DistanceMetric in 1.0. This import path will be removed in 1.3\n",
      "  warnings.warn(\n"
     ]
    }
   ],
   "source": [
    "train_TV_0 = [ex.GetTopologicalVectorFeature(pd) for pd in train_pds_0]\n",
    "train_TV_1 = [ex.GetTopologicalVectorFeature(pd) for pd in train_pds_1]\n",
    "test_TV_0 = [ex.GetTopologicalVectorFeature(pd) for pd in test_pds_0]\n",
    "test_TV_1 = [ex.GetTopologicalVectorFeature(pd) for pd in test_pds_1]\n",
    "train_TV_opp_0 = [ex.GetTopologicalVectorFeature(pd) for pd in train_pds_opp_0]\n",
    "train_TV_opp_1 = [ex.GetTopologicalVectorFeature(pd) for pd in train_pds_opp_1]\n",
    "test_TV_opp_0 = [ex.GetTopologicalVectorFeature(pd) for pd in test_pds_opp_0]\n",
    "test_TV_opp_1 = [ex.GetTopologicalVectorFeature(pd) for pd in test_pds_opp_1]\n",
    "train_TV = [np.concatenate([dgm0,dgm1,dgm2,dgm3]) for dgm0,dgm1,dgm2,dgm3 in zip(train_TV_0, train_TV_1, train_TV_opp_0, train_TV_opp_1)]\n",
    "test_TV = [np.concatenate([dgm0,dgm1,dgm2,dgm3]) for dgm0,dgm1,dgm2,dgm3 in zip(test_TV_0, test_TV_1, test_TV_opp_0, test_TV_opp_1)]"
   ]
  },
  {
   "cell_type": "code",
   "execution_count": 46,
   "id": "ae469052",
   "metadata": {},
   "outputs": [],
   "source": [
    "classifier = RandomForestClassifier()\n",
    "classifier = classifier.fit(train_TV, train_labels) "
   ]
  },
  {
   "cell_type": "code",
   "execution_count": 47,
   "id": "5dadf5d8",
   "metadata": {},
   "outputs": [
    {
     "name": "stdout",
     "output_type": "stream",
     "text": [
      "Train accuracy = 1.0\n",
      "Test accuracy  = 0.43970588235294117\n"
     ]
    }
   ],
   "source": [
    "print(\"Train accuracy = \" + str(classifier.score(train_TV, train_labels)))\n",
    "print(\"Test accuracy  = \" + str(classifier.score(test_TV, test_labels))) "
   ]
  },
  {
   "cell_type": "markdown",
   "id": "b6ffc6af",
   "metadata": {},
   "source": [
    " ## Classification with Complex Polynomials (type = R)"
   ]
  },
  {
   "cell_type": "code",
   "execution_count": 48,
   "id": "4ef845e9",
   "metadata": {},
   "outputs": [
    {
     "name": "stderr",
     "output_type": "stream",
     "text": [
      "/home/manu/review/review/lib/python3.8/site-packages/gudhi/representations/vector_methods.py:579: RuntimeWarning: overflow encountered in cdouble_scalars\n",
      "  coeff[j] += ((-1) * roots[i-1] * coeff[j+1])\n",
      "/home/manu/review/review/lib/python3.8/site-packages/gudhi/representations/vector_methods.py:579: RuntimeWarning: invalid value encountered in cdouble_scalars\n",
      "  coeff[j] += ((-1) * roots[i-1] * coeff[j+1])\n"
     ]
    }
   ],
   "source": [
    "train_CP_0 = [ex.GetComplexPolynomialFeature(pd) for pd in train_pds_0]\n",
    "train_CP_1 = [ex.GetComplexPolynomialFeature(pd) for pd in train_pds_1]\n",
    "test_CP_0 = [ex.GetComplexPolynomialFeature(pd) for pd in test_pds_0]\n",
    "test_CP_1 = [ex.GetComplexPolynomialFeature(pd) for pd in test_pds_1]\n",
    "train_CP_opp_0 = [ex.GetComplexPolynomialFeature(pd) for pd in train_pds_opp_0]\n",
    "train_CP_opp_1 = [ex.GetComplexPolynomialFeature(pd) for pd in train_pds_opp_1]\n",
    "test_CP_opp_0 = [ex.GetComplexPolynomialFeature(pd) for pd in test_pds_opp_0]\n",
    "test_CP_opp_1 = [ex.GetComplexPolynomialFeature(pd) for pd in test_pds_opp_1]\n",
    "train_CP = [np.concatenate([dgm0,dgm1,dgm2,dgm3]) for dgm0,dgm1,dgm2,dgm3 in zip(train_CP_0, train_CP_1, train_CP_opp_0, train_CP_opp_1)]\n",
    "test_CP = [np.concatenate([dgm0,dgm1,dgm2,dgm3]) for dgm0,dgm1,dgm2,dgm3 in zip(test_CP_0, test_CP_1, test_CP_opp_0, test_CP_opp_1)]"
   ]
  },
  {
   "cell_type": "code",
   "execution_count": 49,
   "id": "0fef2f63",
   "metadata": {},
   "outputs": [
    {
     "ename": "ValueError",
     "evalue": "Input contains NaN, infinity or a value too large for dtype('float32').",
     "output_type": "error",
     "traceback": [
      "\u001b[0;31m---------------------------------------------------------------------------\u001b[0m",
      "\u001b[0;31mValueError\u001b[0m                                Traceback (most recent call last)",
      "\u001b[0;32m/tmp/ipykernel_20018/1681812316.py\u001b[0m in \u001b[0;36m<module>\u001b[0;34m\u001b[0m\n\u001b[1;32m      1\u001b[0m \u001b[0mclassifier\u001b[0m \u001b[0;34m=\u001b[0m \u001b[0mRandomForestClassifier\u001b[0m\u001b[0;34m(\u001b[0m\u001b[0;34m)\u001b[0m\u001b[0;34m\u001b[0m\u001b[0;34m\u001b[0m\u001b[0m\n\u001b[0;32m----> 2\u001b[0;31m \u001b[0mclassifier\u001b[0m \u001b[0;34m=\u001b[0m \u001b[0mclassifier\u001b[0m\u001b[0;34m.\u001b[0m\u001b[0mfit\u001b[0m\u001b[0;34m(\u001b[0m\u001b[0mtrain_CP\u001b[0m\u001b[0;34m,\u001b[0m \u001b[0mtrain_labels\u001b[0m\u001b[0;34m)\u001b[0m\u001b[0;34m\u001b[0m\u001b[0;34m\u001b[0m\u001b[0m\n\u001b[0m",
      "\u001b[0;32m~/review/review/lib/python3.8/site-packages/sklearn/ensemble/_forest.py\u001b[0m in \u001b[0;36mfit\u001b[0;34m(self, X, y, sample_weight)\u001b[0m\n\u001b[1;32m    325\u001b[0m         \u001b[0;32mif\u001b[0m \u001b[0missparse\u001b[0m\u001b[0;34m(\u001b[0m\u001b[0my\u001b[0m\u001b[0;34m)\u001b[0m\u001b[0;34m:\u001b[0m\u001b[0;34m\u001b[0m\u001b[0;34m\u001b[0m\u001b[0m\n\u001b[1;32m    326\u001b[0m             \u001b[0;32mraise\u001b[0m \u001b[0mValueError\u001b[0m\u001b[0;34m(\u001b[0m\u001b[0;34m\"sparse multilabel-indicator for y is not supported.\"\u001b[0m\u001b[0;34m)\u001b[0m\u001b[0;34m\u001b[0m\u001b[0;34m\u001b[0m\u001b[0m\n\u001b[0;32m--> 327\u001b[0;31m         X, y = self._validate_data(\n\u001b[0m\u001b[1;32m    328\u001b[0m             \u001b[0mX\u001b[0m\u001b[0;34m,\u001b[0m \u001b[0my\u001b[0m\u001b[0;34m,\u001b[0m \u001b[0mmulti_output\u001b[0m\u001b[0;34m=\u001b[0m\u001b[0;32mTrue\u001b[0m\u001b[0;34m,\u001b[0m \u001b[0maccept_sparse\u001b[0m\u001b[0;34m=\u001b[0m\u001b[0;34m\"csc\"\u001b[0m\u001b[0;34m,\u001b[0m \u001b[0mdtype\u001b[0m\u001b[0;34m=\u001b[0m\u001b[0mDTYPE\u001b[0m\u001b[0;34m\u001b[0m\u001b[0;34m\u001b[0m\u001b[0m\n\u001b[1;32m    329\u001b[0m         )\n",
      "\u001b[0;32m~/review/review/lib/python3.8/site-packages/sklearn/base.py\u001b[0m in \u001b[0;36m_validate_data\u001b[0;34m(self, X, y, reset, validate_separately, **check_params)\u001b[0m\n\u001b[1;32m    579\u001b[0m                 \u001b[0my\u001b[0m \u001b[0;34m=\u001b[0m \u001b[0mcheck_array\u001b[0m\u001b[0;34m(\u001b[0m\u001b[0my\u001b[0m\u001b[0;34m,\u001b[0m \u001b[0;34m**\u001b[0m\u001b[0mcheck_y_params\u001b[0m\u001b[0;34m)\u001b[0m\u001b[0;34m\u001b[0m\u001b[0;34m\u001b[0m\u001b[0m\n\u001b[1;32m    580\u001b[0m             \u001b[0;32melse\u001b[0m\u001b[0;34m:\u001b[0m\u001b[0;34m\u001b[0m\u001b[0;34m\u001b[0m\u001b[0m\n\u001b[0;32m--> 581\u001b[0;31m                 \u001b[0mX\u001b[0m\u001b[0;34m,\u001b[0m \u001b[0my\u001b[0m \u001b[0;34m=\u001b[0m \u001b[0mcheck_X_y\u001b[0m\u001b[0;34m(\u001b[0m\u001b[0mX\u001b[0m\u001b[0;34m,\u001b[0m \u001b[0my\u001b[0m\u001b[0;34m,\u001b[0m \u001b[0;34m**\u001b[0m\u001b[0mcheck_params\u001b[0m\u001b[0;34m)\u001b[0m\u001b[0;34m\u001b[0m\u001b[0;34m\u001b[0m\u001b[0m\n\u001b[0m\u001b[1;32m    582\u001b[0m             \u001b[0mout\u001b[0m \u001b[0;34m=\u001b[0m \u001b[0mX\u001b[0m\u001b[0;34m,\u001b[0m \u001b[0my\u001b[0m\u001b[0;34m\u001b[0m\u001b[0;34m\u001b[0m\u001b[0m\n\u001b[1;32m    583\u001b[0m \u001b[0;34m\u001b[0m\u001b[0m\n",
      "\u001b[0;32m~/review/review/lib/python3.8/site-packages/sklearn/utils/validation.py\u001b[0m in \u001b[0;36mcheck_X_y\u001b[0;34m(X, y, accept_sparse, accept_large_sparse, dtype, order, copy, force_all_finite, ensure_2d, allow_nd, multi_output, ensure_min_samples, ensure_min_features, y_numeric, estimator)\u001b[0m\n\u001b[1;32m    962\u001b[0m         \u001b[0;32mraise\u001b[0m \u001b[0mValueError\u001b[0m\u001b[0;34m(\u001b[0m\u001b[0;34m\"y cannot be None\"\u001b[0m\u001b[0;34m)\u001b[0m\u001b[0;34m\u001b[0m\u001b[0;34m\u001b[0m\u001b[0m\n\u001b[1;32m    963\u001b[0m \u001b[0;34m\u001b[0m\u001b[0m\n\u001b[0;32m--> 964\u001b[0;31m     X = check_array(\n\u001b[0m\u001b[1;32m    965\u001b[0m         \u001b[0mX\u001b[0m\u001b[0;34m,\u001b[0m\u001b[0;34m\u001b[0m\u001b[0;34m\u001b[0m\u001b[0m\n\u001b[1;32m    966\u001b[0m         \u001b[0maccept_sparse\u001b[0m\u001b[0;34m=\u001b[0m\u001b[0maccept_sparse\u001b[0m\u001b[0;34m,\u001b[0m\u001b[0;34m\u001b[0m\u001b[0;34m\u001b[0m\u001b[0m\n",
      "\u001b[0;32m~/review/review/lib/python3.8/site-packages/sklearn/utils/validation.py\u001b[0m in \u001b[0;36mcheck_array\u001b[0;34m(array, accept_sparse, accept_large_sparse, dtype, order, copy, force_all_finite, ensure_2d, allow_nd, ensure_min_samples, ensure_min_features, estimator)\u001b[0m\n\u001b[1;32m    798\u001b[0m \u001b[0;34m\u001b[0m\u001b[0m\n\u001b[1;32m    799\u001b[0m         \u001b[0;32mif\u001b[0m \u001b[0mforce_all_finite\u001b[0m\u001b[0;34m:\u001b[0m\u001b[0;34m\u001b[0m\u001b[0;34m\u001b[0m\u001b[0m\n\u001b[0;32m--> 800\u001b[0;31m             \u001b[0m_assert_all_finite\u001b[0m\u001b[0;34m(\u001b[0m\u001b[0marray\u001b[0m\u001b[0;34m,\u001b[0m \u001b[0mallow_nan\u001b[0m\u001b[0;34m=\u001b[0m\u001b[0mforce_all_finite\u001b[0m \u001b[0;34m==\u001b[0m \u001b[0;34m\"allow-nan\"\u001b[0m\u001b[0;34m)\u001b[0m\u001b[0;34m\u001b[0m\u001b[0;34m\u001b[0m\u001b[0m\n\u001b[0m\u001b[1;32m    801\u001b[0m \u001b[0;34m\u001b[0m\u001b[0m\n\u001b[1;32m    802\u001b[0m     \u001b[0;32mif\u001b[0m \u001b[0mensure_min_samples\u001b[0m \u001b[0;34m>\u001b[0m \u001b[0;36m0\u001b[0m\u001b[0;34m:\u001b[0m\u001b[0;34m\u001b[0m\u001b[0;34m\u001b[0m\u001b[0m\n",
      "\u001b[0;32m~/review/review/lib/python3.8/site-packages/sklearn/utils/validation.py\u001b[0m in \u001b[0;36m_assert_all_finite\u001b[0;34m(X, allow_nan, msg_dtype)\u001b[0m\n\u001b[1;32m    112\u001b[0m         ):\n\u001b[1;32m    113\u001b[0m             \u001b[0mtype_err\u001b[0m \u001b[0;34m=\u001b[0m \u001b[0;34m\"infinity\"\u001b[0m \u001b[0;32mif\u001b[0m \u001b[0mallow_nan\u001b[0m \u001b[0;32melse\u001b[0m \u001b[0;34m\"NaN, infinity\"\u001b[0m\u001b[0;34m\u001b[0m\u001b[0;34m\u001b[0m\u001b[0m\n\u001b[0;32m--> 114\u001b[0;31m             raise ValueError(\n\u001b[0m\u001b[1;32m    115\u001b[0m                 msg_err.format(\n\u001b[1;32m    116\u001b[0m                     \u001b[0mtype_err\u001b[0m\u001b[0;34m,\u001b[0m \u001b[0mmsg_dtype\u001b[0m \u001b[0;32mif\u001b[0m \u001b[0mmsg_dtype\u001b[0m \u001b[0;32mis\u001b[0m \u001b[0;32mnot\u001b[0m \u001b[0;32mNone\u001b[0m \u001b[0;32melse\u001b[0m \u001b[0mX\u001b[0m\u001b[0;34m.\u001b[0m\u001b[0mdtype\u001b[0m\u001b[0;34m\u001b[0m\u001b[0;34m\u001b[0m\u001b[0m\n",
      "\u001b[0;31mValueError\u001b[0m: Input contains NaN, infinity or a value too large for dtype('float32')."
     ]
    }
   ],
   "source": [
    "classifier = RandomForestClassifier()\n",
    "classifier = classifier.fit(train_CP, train_labels) "
   ]
  },
  {
   "cell_type": "code",
   "execution_count": null,
   "id": "9c909d43",
   "metadata": {},
   "outputs": [],
   "source": [
    "print(\"Train accuracy = \" + str(classifier.score(train_CP, train_labels)))\n",
    "print(\"Test accuracy  = \" + str(classifier.score(test_CP, test_labels))) "
   ]
  },
  {
   "cell_type": "markdown",
   "id": "384de5c9",
   "metadata": {},
   "source": [
    " ## Classification with Complex Polynomials (type = S)"
   ]
  },
  {
   "cell_type": "code",
   "execution_count": null,
   "id": "11aceb0c",
   "metadata": {},
   "outputs": [],
   "source": [
    "train_CP_0 = [ex.GetComplexPolynomialFeature(pd, pol_type='S') for pd in train_pds_0]\n",
    "train_CP_1 = [ex.GetComplexPolynomialFeature(pd, pol_type='S') for pd in train_pds_1]\n",
    "test_CP_0 = [ex.GetComplexPolynomialFeature(pd, pol_type='S') for pd in test_pds_0]\n",
    "test_CP_1 = [ex.GetComplexPolynomialFeature(pd, pol_type='S') for pd in test_pds_1]\n",
    "train_CP_opp_0 = [ex.GetComplexPolynomialFeature(pd, pol_type='S') for pd in train_pds_opp_0]\n",
    "train_CP_opp_1 = [ex.GetComplexPolynomialFeature(pd, pol_type='S') for pd in train_pds_opp_1]\n",
    "test_CP_opp_0 = [ex.GetComplexPolynomialFeature(pd, pol_type='S') for pd in test_pds_opp_0]\n",
    "test_CP_opp_1 = [ex.GetComplexPolynomialFeature(pd, pol_type='S') for pd in test_pds_opp_1]\n",
    "train_CP = [np.concatenate([dgm0,dgm1,dgm2,dgm3]) for dgm0,dgm1,dgm2,dgm3 in zip(train_CP_0, train_CP_1, train_CP_opp_0, train_CP_opp_1)]\n",
    "test_CP = [np.concatenate([dgm0,dgm1,dgm2,dgm3]) for dgm0,dgm1,dgm2,dgm3 in zip(test_CP_0, test_CP_1, test_CP_opp_0, test_CP_opp_1)]"
   ]
  },
  {
   "cell_type": "code",
   "execution_count": null,
   "id": "3f6050e1",
   "metadata": {},
   "outputs": [],
   "source": [
    "classifier = RandomForestClassifier()\n",
    "classifier = classifier.fit(train_CP, train_labels) "
   ]
  },
  {
   "cell_type": "code",
   "execution_count": null,
   "id": "59f2392b",
   "metadata": {},
   "outputs": [],
   "source": [
    "print(\"Train accuracy = \" + str(classifier.score(train_CP, train_labels)))\n",
    "print(\"Test accuracy  = \" + str(classifier.score(test_CP, test_labels))) "
   ]
  },
  {
   "cell_type": "markdown",
   "id": "8deee6c2",
   "metadata": {},
   "source": [
    " ## Classification with Complex Polynomials (type = T)"
   ]
  },
  {
   "cell_type": "code",
   "execution_count": null,
   "id": "19b47ae3",
   "metadata": {},
   "outputs": [],
   "source": [
    "train_CP_0 = [ex.GetComplexPolynomialFeature(pd, pol_type='T') for pd in train_pds_0]\n",
    "train_CP_1 = [ex.GetComplexPolynomialFeature(pd, pol_type='T') for pd in train_pds_1]\n",
    "test_CP_0 = [ex.GetComplexPolynomialFeature(pd, pol_type='T') for pd in test_pds_0]\n",
    "test_CP_1 = [ex.GetComplexPolynomialFeature(pd, pol_type='T') for pd in test_pds_1]\n",
    "train_CP_opp_0 = [ex.GetComplexPolynomialFeature(pd, pol_type='T') for pd in train_pds_opp_0]\n",
    "train_CP_opp_1 = [ex.GetComplexPolynomialFeature(pd, pol_type='T') for pd in train_pds_opp_1]\n",
    "test_CP_opp_0 = [ex.GetComplexPolynomialFeature(pd, pol_type='T') for pd in test_pds_opp_0]\n",
    "test_CP_opp_1 = [ex.GetComplexPolynomialFeature(pd, pol_type='T') for pd in test_pds_opp_1]\n",
    "train_CP = [np.concatenate([dgm0,dgm1,dgm2,dgm3]) for dgm0,dgm1,dgm2,dgm3 in zip(train_CP_0, train_CP_1, train_CP_opp_0, train_CP_opp_1)]\n",
    "test_CP = [np.concatenate([dgm0,dgm1,dgm2,dgm3]) for dgm0,dgm1,dgm2,dgm3 in zip(test_CP_0, test_CP_1, test_CP_opp_0, test_CP_opp_1)]"
   ]
  },
  {
   "cell_type": "code",
   "execution_count": null,
   "id": "0d57e688",
   "metadata": {},
   "outputs": [],
   "source": [
    "classifier = RandomForestClassifier()\n",
    "classifier = classifier.fit(train_CP, train_labels) "
   ]
  },
  {
   "cell_type": "code",
   "execution_count": null,
   "id": "bf680058",
   "metadata": {},
   "outputs": [],
   "source": [
    "print(\"Train accuracy = \" + str(classifier.score(train_CP, train_labels)))\n",
    "print(\"Test accuracy  = \" + str(classifier.score(test_CP, test_labels))) "
   ]
  },
  {
   "cell_type": "code",
   "execution_count": null,
   "id": "967cd75c",
   "metadata": {},
   "outputs": [],
   "source": []
  },
  {
   "cell_type": "code",
   "execution_count": null,
   "id": "7d2b3ac4",
   "metadata": {},
   "outputs": [],
   "source": []
  },
  {
   "cell_type": "code",
   "execution_count": null,
   "id": "ec13eabc",
   "metadata": {},
   "outputs": [],
   "source": []
  }
 ],
 "metadata": {
  "kernelspec": {
   "display_name": "Python 3 (ipykernel)",
   "language": "python",
   "name": "python3"
  },
  "language_info": {
   "codemirror_mode": {
    "name": "ipython",
    "version": 3
   },
   "file_extension": ".py",
   "mimetype": "text/x-python",
   "name": "python",
   "nbconvert_exporter": "python",
   "pygments_lexer": "ipython3",
   "version": "3.8.10"
  }
 },
 "nbformat": 4,
 "nbformat_minor": 5
}
