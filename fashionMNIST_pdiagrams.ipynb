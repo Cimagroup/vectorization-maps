{
 "cells": [
  {
   "cell_type": "code",
   "execution_count": 2,
   "id": "88c3f316",
   "metadata": {
    "scrolled": true
   },
   "outputs": [],
   "source": [
    "import os\n",
    "import pickle\n",
    "import numpy as np\n",
    "from fashion_mnist import mnist_reader\n",
    "from vectorization import *"
   ]
  },
  {
   "cell_type": "code",
   "execution_count": null,
   "id": "19eab1f9",
   "metadata": {},
   "outputs": [],
   "source": [
    "path_feat = \"fashion_mnist/features/\"\n",
    "path_dia = \"fashion_mnist/pdiagrams/\""
   ]
  },
  {
   "cell_type": "markdown",
   "id": "883d192d",
   "metadata": {},
   "source": [
    "### Generate and save Barcodes"
   ]
  },
  {
   "cell_type": "code",
   "execution_count": null,
   "id": "fad8be19",
   "metadata": {},
   "outputs": [],
   "source": [
    "images_train_l, y_train = mnist_reader.load_mnist('fashion_mnist/data/fashion', kind='train')\n",
    "images_test_l, y_test = mnist_reader.load_mnist('fashion_mnist/data/fashion', kind='t10k')\n",
    "images_train_u = 255 - images_train_l\n",
    "images_test_u = 255 - images_test_l"
   ]
  },
  {
   "cell_type": "code",
   "execution_count": null,
   "id": "b0187e9f",
   "metadata": {},
   "outputs": [],
   "source": [
    "for i in range(60000):\n",
    "    dgms = GetCubicalComplexPDs(img=images_train_l[i], img_dim=[28,28])\n",
    "    np.savetxt(path_dia + \"l_d0_\"+str(i),dgms[0])\n",
    "    np.savetxt(path_dia + \"l_d1_\"+str(i),dgms[1])\n",
    "    \n",
    "    dgms = GetCubicalComplexPDs(img=images_train_u[i], img_dim=[28,28])\n",
    "    np.savetxt(path_dia + \"u_d0_\"+str(i),dgms[0])\n",
    "    np.savetxt(path_dia + \"u_d1_\"+str(i),dgms[1])"
   ]
  },
  {
   "cell_type": "code",
   "execution_count": null,
   "id": "0fea9a41",
   "metadata": {},
   "outputs": [],
   "source": [
    "for j in range(10000):\n",
    "    i = 60000 + j \n",
    "    dgms = GetCubicalComplexPDs(img=images_test_l[j], img_dim=[28,28])\n",
    "    np.savetxt(path_dia + \"l_d0_\"+str(i),dgms[0])\n",
    "    np.savetxt(path_dia + \"l_d1_\"+str(i),dgms[1]) \n",
    "    \n",
    "    dgms = GetCubicalComplexPDs(img=images_test_u[j], img_dim=[28,28])\n",
    "    np.savetxt(path_dia + \"u_d0_\"+str(i),dgms[0])\n",
    "    np.savetxt(path_dia + \"u_d1_\"+str(i),dgms[1]) "
   ]
  },
  {
   "cell_type": "markdown",
   "id": "ab5b1928",
   "metadata": {},
   "source": [
    "### Load Barcodes"
   ]
  },
  {
   "cell_type": "code",
   "execution_count": 3,
   "id": "308b1317",
   "metadata": {
    "scrolled": true
   },
   "outputs": [
    {
     "name": "stderr",
     "output_type": "stream",
     "text": [
      "/tmp/ipykernel_133837/933824092.py:6: UserWarning: loadtxt: Empty input file: \"fashion_mnist/pdiagrams/u_d1_13024\"\n",
      "  pd = np.loadtxt(x)\n",
      "/tmp/ipykernel_133837/933824092.py:6: UserWarning: loadtxt: Empty input file: \"fashion_mnist/pdiagrams/u_d1_20447\"\n",
      "  pd = np.loadtxt(x)\n",
      "/tmp/ipykernel_133837/933824092.py:6: UserWarning: loadtxt: Empty input file: \"fashion_mnist/pdiagrams/u_d1_25551\"\n",
      "  pd = np.loadtxt(x)\n",
      "/tmp/ipykernel_133837/933824092.py:6: UserWarning: loadtxt: Empty input file: \"fashion_mnist/pdiagrams/u_d1_26737\"\n",
      "  pd = np.loadtxt(x)\n",
      "/tmp/ipykernel_133837/933824092.py:6: UserWarning: loadtxt: Empty input file: \"fashion_mnist/pdiagrams/u_d1_30061\"\n",
      "  pd = np.loadtxt(x)\n",
      "/tmp/ipykernel_133837/933824092.py:6: UserWarning: loadtxt: Empty input file: \"fashion_mnist/pdiagrams/u_d1_32048\"\n",
      "  pd = np.loadtxt(x)\n",
      "/tmp/ipykernel_133837/933824092.py:6: UserWarning: loadtxt: Empty input file: \"fashion_mnist/pdiagrams/u_d1_39009\"\n",
      "  pd = np.loadtxt(x)\n",
      "/tmp/ipykernel_133837/933824092.py:6: UserWarning: loadtxt: Empty input file: \"fashion_mnist/pdiagrams/u_d1_52683\"\n",
      "  pd = np.loadtxt(x)\n",
      "/tmp/ipykernel_133837/933824092.py:6: UserWarning: loadtxt: Empty input file: \"fashion_mnist/pdiagrams/u_d1_56176\"\n",
      "  pd = np.loadtxt(x)\n",
      "/tmp/ipykernel_133837/933824092.py:6: UserWarning: loadtxt: Empty input file: \"fashion_mnist/pdiagrams/u_d1_62453\"\n",
      "  pd = np.loadtxt(x)\n",
      "/tmp/ipykernel_133837/933824092.py:6: UserWarning: loadtxt: Empty input file: \"fashion_mnist/pdiagrams/u_d1_63031\"\n",
      "  pd = np.loadtxt(x)\n",
      "/tmp/ipykernel_133837/933824092.py:6: UserWarning: loadtxt: Empty input file: \"fashion_mnist/pdiagrams/u_d1_63402\"\n",
      "  pd = np.loadtxt(x)\n",
      "/tmp/ipykernel_133837/933824092.py:6: UserWarning: loadtxt: Empty input file: \"fashion_mnist/pdiagrams/u_d1_66314\"\n",
      "  pd = np.loadtxt(x)\n",
      "/tmp/ipykernel_133837/933824092.py:6: UserWarning: loadtxt: Empty input file: \"fashion_mnist/pdiagrams/u_d1_67063\"\n",
      "  pd = np.loadtxt(x)\n"
     ]
    }
   ],
   "source": [
    "pdiagrams = dict()\n",
    "\n",
    "#Barcodes with just one bar are loaded as a 1d-array.\n",
    "#We force them to be a 2d-array\n",
    "def safe_load(x):\n",
    "    pd = np.loadtxt(x)\n",
    "    if (len(pd.shape)==1) and (pd.shape[0]>0): \n",
    "        pd = pd.reshape(1,2)\n",
    "    return pd\n",
    "\n",
    "for i in range(70000):\n",
    "    pdiagrams[\"pdiag_l_d0_\"+str(i)]= safe_load(path_dia + \"l_d0_\"+str(i))\n",
    "    pdiagrams[\"pdiag_l_d1_\"+str(i)]= safe_load(path_dia + \"l_d1_\"+str(i))\n",
    "    pdiagrams[\"pdiag_u_d0_\"+str(i)]= safe_load(path_dia + \"u_d0_\"+str(i))\n",
    "    pdiagrams[\"pdiag_u_d1_\"+str(i)]= safe_load(path_dia + \"u_d1_\"+str(i))"
   ]
  },
  {
   "cell_type": "markdown",
   "id": "e4b92dbb",
   "metadata": {},
   "source": [
    "### Calculate Features"
   ]
  },
  {
   "cell_type": "code",
   "execution_count": 4,
   "id": "f4660762",
   "metadata": {},
   "outputs": [],
   "source": [
    "func_list = [GetPersStats,\n",
    "             GetPersLifespanFeature,\n",
    "             GetPersImageFeature,\n",
    "             GetPersLandscapeFeature,\n",
    "             GetPersEntropyFeature,\n",
    "             GetBettiCurveFeature,\n",
    "             GetCarlssonCoordinatesFeature,\n",
    "             GetPersSilhouetteFeature,\n",
    "             GetTopologicalVectorFeature,\n",
    "             #GetAtolFeature,\n",
    "             GetComplexPolynomialFeature,\n",
    "             GetPersLifespanFeature,\n",
    "             GetPersTropicalCoordinatesFeature\n",
    "            ]"
   ]
  },
  {
   "cell_type": "code",
   "execution_count": 5,
   "id": "2cd5a1ea",
   "metadata": {},
   "outputs": [
    {
     "name": "stderr",
     "output_type": "stream",
     "text": [
      "/home/manu/review/review/lib/python3.8/site-packages/sklearn/neighbors/_distance_metric.py:10: FutureWarning: sklearn.neighbors.DistanceMetric has been moved to sklearn.metrics.DistanceMetric in 1.0. This import path will be removed in 1.3\n",
      "  warnings.warn(\n",
      "/home/manu/review/review/lib/python3.8/site-packages/gudhi/representations/vector_methods.py:579: RuntimeWarning: overflow encountered in cdouble_scalars\n",
      "  coeff[j] += ((-1) * roots[i-1] * coeff[j+1])\n",
      "/home/manu/review/review/lib/python3.8/site-packages/gudhi/representations/vector_methods.py:579: RuntimeWarning: invalid value encountered in cdouble_scalars\n",
      "  coeff[j] += ((-1) * roots[i-1] * coeff[j+1])\n"
     ]
    }
   ],
   "source": [
    "features_l_d0 = dict()\n",
    "features_l_d1 = dict()\n",
    "features_u_d0 = dict()\n",
    "features_u_d1 = dict()\n",
    "\n",
    "for func in func_list:\n",
    "    for i in range(70000):\n",
    "        features_l_d0[(func.__name__)+'_'+str(i)]=func(pdiagrams[\"pdiag_l_d0_\"+str(i)])\n",
    "        features_l_d1[(func.__name__)+'_'+str(i)]=func(pdiagrams[\"pdiag_l_d1_\"+str(i)])\n",
    "        features_u_d0[(func.__name__)+'_'+str(i)]=func(pdiagrams[\"pdiag_u_d0_\"+str(i)])\n",
    "        features_u_d1[(func.__name__)+'_'+str(i)]=func(pdiagrams[\"pdiag_u_d1_\"+str(i)])"
   ]
  },
  {
   "cell_type": "code",
   "execution_count": 6,
   "id": "152971ae",
   "metadata": {},
   "outputs": [],
   "source": [
    "with open('fashionMNIST_l_d0.pkl', 'wb') as f:\n",
    "  pickle.dump(features_l_d0, f)\n",
    "with open('fashionMNIST_l_d1.pkl', 'wb') as f:\n",
    "  pickle.dump(features_l_d1, f)\n",
    "with open('fashionMNIST_u_d0.pkl', 'wb') as f:\n",
    "  pickle.dump(features_u_d0, f)\n",
    "with open('fashionMNIST_u_d1.pkl', 'wb') as f:\n",
    "  pickle.dump(features_u_d1, f)"
   ]
  },
  {
   "cell_type": "code",
   "execution_count": null,
   "id": "2e5158c4",
   "metadata": {},
   "outputs": [],
   "source": []
  }
 ],
 "metadata": {
  "kernelspec": {
   "display_name": "Python 3 (ipykernel)",
   "language": "python",
   "name": "python3"
  },
  "language_info": {
   "codemirror_mode": {
    "name": "ipython",
    "version": 3
   },
   "file_extension": ".py",
   "mimetype": "text/x-python",
   "name": "python",
   "nbconvert_exporter": "python",
   "pygments_lexer": "ipython3",
   "version": "3.8.10"
  }
 },
 "nbformat": 4,
 "nbformat_minor": 5
}
