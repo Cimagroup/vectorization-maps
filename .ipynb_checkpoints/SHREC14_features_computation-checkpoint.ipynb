{
 "cells": [
  {
   "cell_type": "code",
   "execution_count": null,
   "metadata": {},
   "outputs": [],
   "source": [
    "import pickle\n",
    "import gudhi as gd\n",
    "import vectorisation as ex\n",
    "import numpy as np\n",
    "from ripser import ripser"
   ]
  },
  {
   "cell_type": "markdown",
   "metadata": {},
   "source": [
    "## We create a dictionary\n",
    "* keys   : data_i for each element of the dataset\n",
    "* values : vertices for data_i"
   ]
  },
  {
   "cell_type": "code",
   "execution_count": null,
   "metadata": {},
   "outputs": [],
   "source": [
    "#dataset = dict()\n",
    "#for i in range(0,400):\n",
    "#    dataset[\"data_\"+str(i)]= [[a,b,c] for (a,b,c) in pywavefront.Wavefront(\"Data/\"+str(i)+\".obj\").vertices]\n",
    "#with open('saved_dataset.pkl', 'wb') as f:\n",
    "#   pickle.dump(dataset, f)"
   ]
  },
  {
   "cell_type": "markdown",
   "metadata": {},
   "source": [
    "## Loading the dictionary"
   ]
  },
  {
   "cell_type": "code",
   "execution_count": null,
   "metadata": {},
   "outputs": [],
   "source": [
    "with open('Shrec14/data/saved_dataset.pkl', 'rb') as f:\n",
    "    dataset = pickle.load(f)"
   ]
  },
  {
   "cell_type": "code",
   "execution_count": null,
   "metadata": {},
   "outputs": [],
   "source": [
    "print(\"The number of 3D points of the model\", 4,\"is\",len(dataset[\"data_4\"]))"
   ]
  },
  {
   "cell_type": "markdown",
   "metadata": {},
   "source": [
    "# Vietoris Rips filtration and persistence diagrams"
   ]
  },
  {
   "cell_type": "markdown",
   "metadata": {},
   "source": [
    "Computing persistence diagrams and save to files"
   ]
  },
  {
   "cell_type": "code",
   "execution_count": null,
   "metadata": {},
   "outputs": [],
   "source": [
    "#for i in range(0,400):\n",
    "#    diagram = ripser(np.array(dataset[\"data_\"+str(i)]),maxdim=0)['dgms']\n",
    "#    np.savetxt(\"pdiagrams/d0_\"+str(i),diagram[0])    "
   ]
  },
  {
   "cell_type": "markdown",
   "metadata": {},
   "source": [
    "To load the saved persistence diagrams"
   ]
  },
  {
   "cell_type": "code",
   "execution_count": null,
   "metadata": {},
   "outputs": [],
   "source": [
    "pdiagrams = dict()\n",
    "for i in range(0,400):\n",
    "    pdiagrams[\"pdiag_\"+str(i)]= np.loadtxt(\"Shrec14/pdiagrams/d0_\"+str(i))"
   ]
  },
  {
   "cell_type": "code",
   "execution_count": null,
   "metadata": {},
   "outputs": [],
   "source": [
    "pdiagrams[\"pdiag_1\"]"
   ]
  },
  {
   "cell_type": "markdown",
   "metadata": {},
   "source": [
    "### Labels of the dataset\n",
    "\n",
    "The dataset is composed of 400 models and 40 different balanced classes."
   ]
  },
  {
   "cell_type": "code",
   "execution_count": null,
   "metadata": {
    "scrolled": false
   },
   "outputs": [],
   "source": [
    "labels=np.concatenate([[i]*10 for i in range(40)])"
   ]
  },
  {
   "cell_type": "markdown",
   "metadata": {},
   "source": [
    "Applying the featurization methods"
   ]
  },
  {
   "cell_type": "code",
   "execution_count": null,
   "metadata": {},
   "outputs": [],
   "source": [
    "func_list = [ex.GetPersStats,\n",
    "             ex.GetPersLifespanFeature,\n",
    "             ex.GetPersImageFeature,\n",
    "             ex.GetPersLandscapeFeature,\n",
    "             ex.GetPersEntropyFeature,\n",
    "             ex.GetBettiCurveFeature,\n",
    "             ex.GetCarlssonCoordinatesFeature,\n",
    "             ex.GetPersSilhouetteFeature,\n",
    "             ex.GetTopologicalVectorFeature,\n",
    "             # ex.GetAtolFeature,\n",
    "             ex.GetComplexPolynomialFeature,\n",
    "             ex.GetPersLifespanFeature,\n",
    "             ex.GetPersTropicalCoordinatesFeature\n",
    "            ]"
   ]
  },
  {
   "cell_type": "code",
   "execution_count": null,
   "metadata": {},
   "outputs": [],
   "source": [
    "features = dict()\n",
    "for func in func_list:\n",
    "    features[func.__name__]=func(pdiagrams[\"pdiag_1\"][:-1]) # [:-1] to remove infinity bar"
   ]
  },
  {
   "cell_type": "code",
   "execution_count": null,
   "metadata": {
    "scrolled": true
   },
   "outputs": [],
   "source": [
    "features[\"GetPersStats\"]"
   ]
  }
 ],
 "metadata": {
  "kernelspec": {
   "display_name": "Python 3",
   "language": "python",
   "name": "python3"
  },
  "language_info": {
   "codemirror_mode": {
    "name": "ipython",
    "version": 3
   },
   "file_extension": ".py",
   "mimetype": "text/x-python",
   "name": "python",
   "nbconvert_exporter": "python",
   "pygments_lexer": "ipython3",
   "version": "3.8.10"
  }
 },
 "nbformat": 4,
 "nbformat_minor": 4
}
