{
 "cells": [
  {
   "cell_type": "code",
   "execution_count": 1,
   "id": "0cab41b7",
   "metadata": {},
   "outputs": [],
   "source": [
    "import pickle\n",
    "import pandas as pd\n",
    "import numpy as np\n",
    "from fashion_mnist import mnist_reader\n",
    "from sklearn.ensemble import RandomForestClassifier\n",
    "from sklearn.model_selection import cross_val_score\n",
    "from vectorisation import *"
   ]
  },
  {
   "cell_type": "code",
   "execution_count": null,
   "id": "4fd37935",
   "metadata": {},
   "outputs": [],
   "source": [
    "path_feat = \"fashion_mnist/features/\"\n",
    "path_res = \"fashion_mnist/results/\""
   ]
  },
  {
   "cell_type": "code",
   "execution_count": 2,
   "id": "15cd6bd9",
   "metadata": {},
   "outputs": [],
   "source": [
    "with open(path_feat + 'fashionMNIST_l_d0.pkl', 'rb') as f:\n",
    "    features_l_d0 = pickle.load(f)\n",
    "with open(path_feat + 'fashionMNIST_l_d1.pkl', 'rb') as f:\n",
    "    features_l_d1 = pickle.load(f)\n",
    "with open(path_feat + 'fashionMNIST_u_d0.pkl', 'rb') as f:\n",
    "    features_u_d0 = pickle.load(f)\n",
    "with open(path_feat + 'fashionMNIST_u_d1.pkl', 'rb') as f:\n",
    "    features_u_d1 = pickle.load(f)"
   ]
  },
  {
   "cell_type": "code",
   "execution_count": 3,
   "id": "f5c4876f",
   "metadata": {},
   "outputs": [],
   "source": [
    "func_list = [GetPersStats,\n",
    "             GetPersImageFeature,\n",
    "             GetPersLandscapeFeature,\n",
    "             GetPersEntropyFeature,\n",
    "             GetBettiCurveFeature,\n",
    "             GetCarlssonCoordinatesFeature,\n",
    "             GetPersSilhouetteFeature,\n",
    "             GetTopologicalVectorFeature,\n",
    "             #GetAtolFeature,\n",
    "             #GetComplexPolynomialFeature,\n",
    "             GetPersLifespanFeature,\n",
    "             GetPersTropicalCoordinatesFeature\n",
    "            ]"
   ]
  },
  {
   "cell_type": "code",
   "execution_count": 4,
   "id": "cf51ecde",
   "metadata": {},
   "outputs": [],
   "source": [
    "features = dict()\n",
    "for func in func_list:\n",
    "    for i in range(70000):\n",
    "        name = (func.__name__)+'_'+str(i)\n",
    "        features[name]= np.hstack([features_l_d0[name], features_l_d1[name], features_u_d0[name], features_u_d1[name]])"
   ]
  },
  {
   "cell_type": "code",
   "execution_count": 5,
   "id": "75047278",
   "metadata": {},
   "outputs": [],
   "source": [
    "_, train_labels = mnist_reader.load_mnist('fashion_mnist/data/fashion', kind='train')\n",
    "_, test_labels = mnist_reader.load_mnist('fashion_mnist/data/fashion', kind='t10k')\n",
    "\n",
    "train_index = range(60000)\n",
    "test_index = range(60000,70000)"
   ]
  },
  {
   "cell_type": "code",
   "execution_count": 6,
   "id": "14b9e08f",
   "metadata": {},
   "outputs": [],
   "source": [
    "def classification(train_labels, test_labels, train_index, test_index, func_list, features):\n",
    "    train_scores = dict()\n",
    "    test_scores = dict()\n",
    "    for func in func_list:\n",
    "        print(func.__name__)\n",
    "        X = []\n",
    "        Y = []\n",
    "        for i in train_index:\n",
    "            name = (func.__name__)+'_'+str(i)\n",
    "            X.append(features[name])\n",
    "        clf = RandomForestClassifier()\n",
    "        clf = clf.fit(X, train_labels)      \n",
    "        train_scores[func] = clf.score(X, train_labels)\n",
    "        for i in test_index:\n",
    "            name = (func.__name__)+'_'+str(i)\n",
    "            Y.append(features[name])\n",
    "        test_scores[func] = clf.score(Y, test_labels)\n",
    "        \n",
    "    return train_scores, test_scores"
   ]
  },
  {
   "cell_type": "code",
   "execution_count": 7,
   "id": "0d449440",
   "metadata": {},
   "outputs": [
    {
     "name": "stdout",
     "output_type": "stream",
     "text": [
      "GetPersStats\n",
      "GetPersImageFeature\n",
      "GetPersLandscapeFeature\n",
      "GetPersEntropyFeature\n",
      "GetBettiCurveFeature\n",
      "GetCarlssonCoordinatesFeature\n",
      "GetPersSilhouetteFeature\n",
      "GetTopologicalVectorFeature\n",
      "GetPersLifespanFeature\n",
      "GetPersTropicalCoordinatesFeature\n",
      "GetPersStats\n",
      "GetPersImageFeature\n",
      "GetPersLandscapeFeature\n",
      "GetPersEntropyFeature\n",
      "GetBettiCurveFeature\n",
      "GetCarlssonCoordinatesFeature\n",
      "GetPersSilhouetteFeature\n",
      "GetTopologicalVectorFeature\n",
      "GetPersLifespanFeature\n",
      "GetPersTropicalCoordinatesFeature\n",
      "GetPersStats\n",
      "GetPersImageFeature\n",
      "GetPersLandscapeFeature\n",
      "GetPersEntropyFeature\n",
      "GetBettiCurveFeature\n",
      "GetCarlssonCoordinatesFeature\n",
      "GetPersSilhouetteFeature\n",
      "GetTopologicalVectorFeature\n",
      "GetPersLifespanFeature\n",
      "GetPersTropicalCoordinatesFeature\n",
      "GetPersStats\n",
      "GetPersImageFeature\n",
      "GetPersLandscapeFeature\n",
      "GetPersEntropyFeature\n",
      "GetBettiCurveFeature\n",
      "GetCarlssonCoordinatesFeature\n",
      "GetPersSilhouetteFeature\n",
      "GetTopologicalVectorFeature\n",
      "GetPersLifespanFeature\n",
      "GetPersTropicalCoordinatesFeature\n",
      "GetPersStats\n",
      "GetPersImageFeature\n",
      "GetPersLandscapeFeature\n",
      "GetPersEntropyFeature\n",
      "GetBettiCurveFeature\n",
      "GetCarlssonCoordinatesFeature\n",
      "GetPersSilhouetteFeature\n",
      "GetTopologicalVectorFeature\n",
      "GetPersLifespanFeature\n",
      "GetPersTropicalCoordinatesFeature\n",
      "GetPersStats\n",
      "GetPersImageFeature\n",
      "GetPersLandscapeFeature\n",
      "GetPersEntropyFeature\n",
      "GetBettiCurveFeature\n",
      "GetCarlssonCoordinatesFeature\n",
      "GetPersSilhouetteFeature\n",
      "GetTopologicalVectorFeature\n",
      "GetPersLifespanFeature\n",
      "GetPersTropicalCoordinatesFeature\n",
      "GetPersStats\n",
      "GetPersImageFeature\n",
      "GetPersLandscapeFeature\n",
      "GetPersEntropyFeature\n",
      "GetBettiCurveFeature\n",
      "GetCarlssonCoordinatesFeature\n",
      "GetPersSilhouetteFeature\n",
      "GetTopologicalVectorFeature\n",
      "GetPersLifespanFeature\n",
      "GetPersTropicalCoordinatesFeature\n",
      "GetPersStats\n",
      "GetPersImageFeature\n",
      "GetPersLandscapeFeature\n",
      "GetPersEntropyFeature\n",
      "GetBettiCurveFeature\n",
      "GetCarlssonCoordinatesFeature\n",
      "GetPersSilhouetteFeature\n",
      "GetTopologicalVectorFeature\n",
      "GetPersLifespanFeature\n",
      "GetPersTropicalCoordinatesFeature\n",
      "GetPersStats\n",
      "GetPersImageFeature\n",
      "GetPersLandscapeFeature\n",
      "GetPersEntropyFeature\n",
      "GetBettiCurveFeature\n",
      "GetCarlssonCoordinatesFeature\n",
      "GetPersSilhouetteFeature\n",
      "GetTopologicalVectorFeature\n",
      "GetPersLifespanFeature\n",
      "GetPersTropicalCoordinatesFeature\n",
      "GetPersStats\n",
      "GetPersImageFeature\n",
      "GetPersLandscapeFeature\n",
      "GetPersEntropyFeature\n",
      "GetBettiCurveFeature\n",
      "GetCarlssonCoordinatesFeature\n",
      "GetPersSilhouetteFeature\n",
      "GetTopologicalVectorFeature\n",
      "GetPersLifespanFeature\n",
      "GetPersTropicalCoordinatesFeature\n"
     ]
    }
   ],
   "source": [
    "n = 10\n",
    "scores_vector = np.zeros([n, len(func_list)])\n",
    "for i in range(n):\n",
    "    train_scores, test_scores = classification(train_labels, test_labels, train_index, test_index, func_list, features)\n",
    "    scores_vector[i, :] = np.array([x[1] for x in list(test_scores.items())])"
   ]
  },
  {
   "cell_type": "code",
   "execution_count": 8,
   "id": "cba7b866",
   "metadata": {},
   "outputs": [],
   "source": [
    "scores_avg = dict()\n",
    "for j in range(len(func_list)):\n",
    "    scores_avg[func_list[j].__name__] = (scores_vector[:,j].mean(), scores_vector[:,j].std())\n",
    "    \n",
    "with open(path_res + 'fashionMNIST_scores.pkl', 'wb') as f:\n",
    "  pickle.dump(scores_avg, f)"
   ]
  },
  {
   "cell_type": "code",
   "execution_count": 9,
   "id": "518bf7a0",
   "metadata": {},
   "outputs": [
    {
     "data": {
      "text/plain": [
       "{'GetPersStats': (0.63327, 0.0025000199999200045),\n",
       " 'GetPersImageFeature': (0.42243, 0.003352327549628761),\n",
       " 'GetPersLandscapeFeature': (0.56238, 0.0025222212432695025),\n",
       " 'GetPersEntropyFeature': (0.51762, 0.0027487451682540634),\n",
       " 'GetBettiCurveFeature': (0.57845, 0.0017856371411907933),\n",
       " 'GetCarlssonCoordinatesFeature': (0.55286, 0.0013139254164525578),\n",
       " 'GetPersSilhouetteFeature': (0.591, 0.0020605824419323835),\n",
       " 'GetTopologicalVectorFeature': (0.25708000000000003, 0.0010332473082471526),\n",
       " 'GetPersLifespanFeature': (0.54851, 0.0022151523649627403),\n",
       " 'GetPersTropicalCoordinatesFeature': (0.6012400000000001,\n",
       "  0.000999199679743739)}"
      ]
     },
     "execution_count": 9,
     "metadata": {},
     "output_type": "execute_result"
    }
   ],
   "source": [
    "scores_avg"
   ]
  },
  {
   "cell_type": "code",
   "execution_count": null,
   "id": "62d044d4",
   "metadata": {},
   "outputs": [],
   "source": []
  }
 ],
 "metadata": {
  "kernelspec": {
   "display_name": "Python 3",
   "language": "python",
   "name": "python3"
  },
  "language_info": {
   "codemirror_mode": {
    "name": "ipython",
    "version": 3
   },
   "file_extension": ".py",
   "mimetype": "text/x-python",
   "name": "python",
   "nbconvert_exporter": "python",
   "pygments_lexer": "ipython3",
   "version": "3.8.10"
  }
 },
 "nbformat": 4,
 "nbformat_minor": 5
}
