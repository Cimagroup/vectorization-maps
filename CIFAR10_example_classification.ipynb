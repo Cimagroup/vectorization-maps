{
 "cells": [
  {
   "cell_type": "markdown",
   "id": "5ea1aac8",
   "metadata": {},
   "source": [
    "# A classification task using TDA"
   ]
  },
  {
   "cell_type": "markdown",
   "id": "9acdac8f",
   "metadata": {},
   "source": [
    "## Preparing the dataset"
   ]
  },
  {
   "cell_type": "code",
   "execution_count": 1,
   "id": "d41b9d2c",
   "metadata": {},
   "outputs": [],
   "source": [
    "import matplotlib.pyplot as plt\n",
    "import numpy as np"
   ]
  },
  {
   "cell_type": "markdown",
   "id": "d2c5800b",
   "metadata": {},
   "source": [
    "We are using the CIFAR10 dataset. As explained in its [readme](http://www.cs.toronto.edu/~kriz/cifar.html), it consists of 60000 32x32 colour images in 10 classes, with 6000 images per class. There are 50000 training images and 10000 test images. The dataset is divided into five training batches and one test batch, each with 10000 images."
   ]
  },
  {
   "cell_type": "markdown",
   "id": "24015950",
   "metadata": {},
   "source": [
    "Once loaded, we obtain a dictionary with\n",
    "\n",
    "* **data**: a 10000x3072 numpy array of uint8s. Each row of the array stores a 32x32 colour image. The first 1024 entries contain the red channel values, the next 1024 the green, and the final 1024 the blue. The image is stored in row-major order, so that the first 32 entries of the array are the red channel values of the first row of the image.\n",
    "\n",
    "* **labels**: a list of 10000 numbers in the range 0-9. The number at index i indicates the label of the ith image in the array data.\n"
   ]
  },
  {
   "cell_type": "code",
   "execution_count": 2,
   "id": "57b991b7",
   "metadata": {},
   "outputs": [],
   "source": [
    "#We are loading the data as proposed in the readme\n",
    "def unpickle(file):\n",
    "    import pickle\n",
    "    with open(file, 'rb') as fo:\n",
    "        dict = pickle.load(fo, encoding='bytes')\n",
    "    return dict"
   ]
  },
  {
   "cell_type": "code",
   "execution_count": 3,
   "id": "eb8ed23d",
   "metadata": {},
   "outputs": [],
   "source": [
    "training_1_path = 'cifar-10-py-original/data/data_batch_1'\n",
    "training_1_dict = unpickle(training_1_path)\n",
    "\n",
    "training_2_path = 'cifar-10-py-original/data/data_batch_2'\n",
    "training_2_dict = unpickle(training_2_path)\n",
    "\n",
    "training_3_path = 'cifar-10-py-original/data/data_batch_3'\n",
    "training_3_dict = unpickle(training_3_path)\n",
    "\n",
    "training_4_path = 'cifar-10-py-original/data/data_batch_4'\n",
    "training_4_dict = unpickle(training_4_path)\n",
    "\n",
    "training_5_path = 'cifar-10-py-original/data/data_batch_5'\n",
    "training_5_dict = unpickle(training_5_path)\n",
    "\n",
    "test_path = 'cifar-10-py-original/data/test_batch'\n",
    "test_dict= unpickle(test_path)"
   ]
  },
  {
   "cell_type": "markdown",
   "id": "04f751d6",
   "metadata": {},
   "source": [
    "We are merging all training images together to make the computations easier"
   ]
  },
  {
   "cell_type": "code",
   "execution_count": 4,
   "id": "e24e1d3d",
   "metadata": {},
   "outputs": [],
   "source": [
    "training_1_list = training_1_dict[b'data']\n",
    "training_2_list = training_2_dict[b'data']\n",
    "training_3_list = training_3_dict[b'data']\n",
    "training_4_list = training_4_dict[b'data']\n",
    "training_5_list = training_5_dict[b'data']\n",
    "training_list = np.vstack([training_1_list, training_2_list, training_3_list,\n",
    "                           training_4_list, training_5_list])\n",
    "\n",
    "training_1_labels = training_1_dict[b'labels']\n",
    "training_2_labels = training_2_dict[b'labels']\n",
    "training_3_labels = training_3_dict[b'labels']\n",
    "training_4_labels = training_4_dict[b'labels']\n",
    "training_5_labels = training_5_dict[b'labels']\n",
    "training_labels = (training_1_labels + training_2_labels + training_3_labels +\n",
    "                   training_4_labels + training_5_labels)"
   ]
  },
  {
   "cell_type": "markdown",
   "id": "b7dca553",
   "metadata": {},
   "source": [
    "Same procedure for the test images"
   ]
  },
  {
   "cell_type": "code",
   "execution_count": 5,
   "id": "7bda9fa1",
   "metadata": {},
   "outputs": [],
   "source": [
    "test_list = test_dict[b'data']\n",
    "test_labels = test_dict[b'labels']"
   ]
  },
  {
   "cell_type": "markdown",
   "id": "ef8ef1b9",
   "metadata": {},
   "source": [
    "In order to visualise the images, we need a small function to transform each row into a [skimage format](https://scikit-image.org/docs/dev/user_guide/numpy_images.html#color-images)"
   ]
  },
  {
   "cell_type": "code",
   "execution_count": 6,
   "id": "101f13d1",
   "metadata": {},
   "outputs": [],
   "source": [
    "def row2matrix(image):\n",
    "    \"\"\"\n",
    "    take a 1x3072 or 1x1024 numpy array representing a color/grey image and reshape it to the\n",
    "    32x32 format used by scikit-image.\n",
    "    \"\"\"\n",
    "    image_sk = np.zeros([32,32,3], dtype=int)\n",
    "    for i in range(len(image)):\n",
    "        x = (i//32)%32\n",
    "        y = i%32\n",
    "        z = i//1024\n",
    "        image_sk[x,y,z]=image[i]\n",
    "    return image_sk"
   ]
  },
  {
   "cell_type": "code",
   "execution_count": 7,
   "id": "8657cc92",
   "metadata": {},
   "outputs": [
    {
     "data": {
      "image/png": "[encoded data removed]",
      "text/plain": [
       "<Figure size 172.8x129.6 with 1 Axes>"
      ]
     },
     "metadata": {
      "needs_background": "light"
     },
     "output_type": "display_data"
    }
   ],
   "source": [
    "#Example of picture with label 7, \"horse\"\n",
    "skimage = row2matrix(training_list[7])\n",
    "plt.figure(figsize=(2.4,1.8))\n",
    "plt.imshow(skimage)\n",
    "plt.show()"
   ]
  },
  {
   "cell_type": "markdown",
   "id": "5eb3933c",
   "metadata": {},
   "source": [
    "To make the experiment simpler, we are only distinguishing two type of images: horses (tag 7) and ships (tag 8)"
   ]
  },
  {
   "cell_type": "code",
   "execution_count": 8,
   "id": "3d40bc9e",
   "metadata": {},
   "outputs": [],
   "source": [
    "indexes = list(filter(lambda i : (training_labels[i]==7)|(training_labels[i]==8), range(len(training_labels))))\n",
    "training_labels = [training_labels[i] for i in indexes]\n",
    "training_list = training_list[indexes,:]\n",
    "\n",
    "indexes = list(filter(lambda i : (test_labels[i]==7)|(test_labels[i]==8), range(len(test_labels))))\n",
    "test_labels = [test_labels[i] for i in indexes]\n",
    "test_list = test_list[indexes,:]"
   ]
  },
  {
   "cell_type": "markdown",
   "id": "d766e738",
   "metadata": {},
   "source": [
    "We will use a sub-level set filtration on grey scale images. Then, the next step is to transform color images into grey scale. We follow the [proposed method](https://scikit-image.org/docs/dev/auto_examples/color_exposure/plot_rgb_to_gray.html) by scikit-image."
   ]
  },
  {
   "cell_type": "code",
   "execution_count": 9,
   "id": "b091c2ee",
   "metadata": {},
   "outputs": [],
   "source": [
    "def color2grey(image):\n",
    "    \"\"\"\n",
    "    take a 1x3072 numpy array representing a color image and gives a 1x1024\n",
    "    numpy array of integers representing a grey scale image.\n",
    "    \"\"\"\n",
    "    r = image[0:1024]\n",
    "    g = image[1024:2048]\n",
    "    b = image[2048:3072]\n",
    "    #Weighted average of the intensities which produce a nice-viewing gray \n",
    "    #scale image.\n",
    "    grey = 0.2125*r + 0.7154*g + 0.0721*b\n",
    "    grey = np.array(list(map(lambda x : int(x), grey)))\n",
    "    return grey"
   ]
  },
  {
   "cell_type": "code",
   "execution_count": 10,
   "id": "9f20768b",
   "metadata": {},
   "outputs": [
    {
     "data": {
      "image/png": "[encoded data removed]",
      "text/plain": [
       "<Figure size 172.8x129.6 with 1 Axes>"
      ]
     },
     "metadata": {
      "needs_background": "light"
     },
     "output_type": "display_data"
    }
   ],
   "source": [
    "#The same image, in grey scale\n",
    "skimage = row2matrix(color2grey(training_list[0]))[:,:,0]\n",
    "plt.figure(figsize=(2.4,1.8))\n",
    "plt.imshow(skimage, cmap=plt.cm.gray)\n",
    "plt.show()"
   ]
  },
  {
   "cell_type": "markdown",
   "id": "faa87ace",
   "metadata": {},
   "source": [
    "We also need to transpose the image to adapt it to the gudhi input format."
   ]
  },
  {
   "cell_type": "code",
   "execution_count": 11,
   "id": "83ccab68",
   "metadata": {},
   "outputs": [],
   "source": [
    "#The row order from the database CIFAR-10 is the transpose respect to the\n",
    "#one of gudhi. The following functions transform one into the other.\n",
    "def row_transpose(image):\n",
    "    \"\"\"\n",
    "    Take a 1x1024 int row and change its order to represent the transpose \n",
    "    image.\n",
    "    \"\"\"\n",
    "    transpose = np.zeros([1024], dtype=int)\n",
    "    for i in range(1024):\n",
    "        x = i//32\n",
    "        y = i%32\n",
    "        transpose[y*32+x]=image[i]\n",
    "    return transpose"
   ]
  },
  {
   "cell_type": "markdown",
   "id": "d9472069",
   "metadata": {},
   "source": [
    "We apply all this changes to generate the training and test inputs for gudhi"
   ]
  },
  {
   "cell_type": "code",
   "execution_count": 12,
   "id": "e877c969",
   "metadata": {},
   "outputs": [],
   "source": [
    "training_gudhi = map(color2grey, training_list)\n",
    "training_gudhi = map(row_transpose, training_gudhi)\n",
    "training_gudhi = np.array(list(training_gudhi))\n",
    "\n",
    "test_gudhi = map(color2grey, test_list)\n",
    "test_gudhi = map(row_transpose, test_gudhi)\n",
    "test_gudhi = np.array(list(test_gudhi))"
   ]
  },
  {
   "cell_type": "markdown",
   "id": "2d79dc2d",
   "metadata": {},
   "source": [
    "## Calculating the persistence diagrams and landscapes"
   ]
  },
  {
   "cell_type": "code",
   "execution_count": 13,
   "id": "c5d448fe",
   "metadata": {},
   "outputs": [],
   "source": [
    "import gudhi as gd\n",
    "import gudhi.representations"
   ]
  },
  {
   "cell_type": "markdown",
   "id": "cd1f23b8",
   "metadata": {},
   "source": [
    "In this simple example, we are using the 1 dimensional landscape as or vectorisation map. Then, we need to calculate the cubical complexes with the sublevel set filtration from each image, and then its persistent homology. We use the the calculate_pd function."
   ]
  },
  {
   "cell_type": "code",
   "execution_count": 14,
   "id": "fbeccd01",
   "metadata": {},
   "outputs": [],
   "source": [
    "cub_filtration = lambda image : gd.CubicalComplex(dimensions = [32,32], top_dimensional_cells=image)\n",
    "calculate_pd = lambda image : cub_filtration(image).persistence()\n",
    "\n",
    "training_pds = map(calculate_pd, training_gudhi)\n",
    "test_pds = map(calculate_pd, test_gudhi)"
   ]
  },
  {
   "cell_type": "markdown",
   "id": "4a233a29",
   "metadata": {},
   "source": [
    "I was not able to use the gudhi's function persistence_intervals_in_dimension(), so I had to write a new one called intervals_of_dim_1. We should check out this error for future experiments."
   ]
  },
  {
   "cell_type": "code",
   "execution_count": 15,
   "id": "dea1869d",
   "metadata": {},
   "outputs": [],
   "source": [
    "intervals_of_dim_1 = lambda pd : np.array([[x[1][0], x[1][1]]  for x in pd if x[0]==1])\n",
    "training_pds_1 = list(map(intervals_of_dim_1, training_pds))\n",
    "test_pds_1 = list(map(intervals_of_dim_1, test_pds))"
   ]
  },
  {
   "cell_type": "markdown",
   "id": "cfb43484",
   "metadata": {},
   "source": [
    "The [representations](https://gudhi.inria.fr/python/3.1.0.rc1/representations.html) module is compatible with sklearn. We use it to calculate the persistence landscapes. The module supports many other vectorisation methods. "
   ]
  },
  {
   "cell_type": "code",
   "execution_count": 16,
   "id": "d467edc5",
   "metadata": {},
   "outputs": [],
   "source": [
    "LS = gd.representations.Landscape(resolution=1000)\n",
    "training_LS = LS.fit_transform(training_pds_1)\n",
    "test_LS = LS.fit_transform(test_pds_1)"
   ]
  },
  {
   "cell_type": "markdown",
   "id": "0fac13fa",
   "metadata": {},
   "source": [
    "The default settings draw 5 landscapes in a row with parameters $k=1\\ldots5$ (I am not 100% sure, I had to deduce it from the [source code](https://gudhi.inria.fr/python/latest/_modules/gudhi/representations/vector_methods.html#Landscape.__init__))."
   ]
  },
  {
   "cell_type": "code",
   "execution_count": 17,
   "id": "6ce285be",
   "metadata": {},
   "outputs": [
    {
     "data": {
      "text/plain": [
       "[<matplotlib.lines.Line2D at 0x7ff47b036fa0>]"
      ]
     },
     "execution_count": 17,
     "metadata": {},
     "output_type": "execute_result"
    },
    {
     "data": {
      "image/png": "[encoded data removed]",
      "text/plain": [
       "<Figure size 432x288 with 1 Axes>"
      ]
     },
     "metadata": {
      "needs_background": "light"
     },
     "output_type": "display_data"
    }
   ],
   "source": [
    "plt.plot(training_LS[0])"
   ]
  },
  {
   "cell_type": "markdown",
   "id": "f65057e3",
   "metadata": {},
   "source": [
    "## Random Forest Classification"
   ]
  },
  {
   "cell_type": "code",
   "execution_count": 18,
   "id": "f182651c",
   "metadata": {},
   "outputs": [],
   "source": [
    "from sklearn.ensemble import RandomForestClassifier\n",
    "from sklearn.model_selection import cross_validate"
   ]
  },
  {
   "cell_type": "markdown",
   "id": "c03610f5",
   "metadata": {},
   "source": [
    "We are performing a simple classification task using Random Forest. Training the classifier is quite convenient once we have the right input for sklearn."
   ]
  },
  {
   "cell_type": "code",
   "execution_count": 19,
   "id": "97652008",
   "metadata": {},
   "outputs": [],
   "source": [
    "classifier = RandomForestClassifier()\n",
    "classifier = classifier.fit(training_LS, training_labels)   "
   ]
  },
  {
   "cell_type": "markdown",
   "id": "87dda39b",
   "metadata": {},
   "source": [
    "In this example, the accuracy is the following"
   ]
  },
  {
   "cell_type": "code",
   "execution_count": 20,
   "id": "b94911fe",
   "metadata": {},
   "outputs": [
    {
     "name": "stdout",
     "output_type": "stream",
     "text": [
      "Train accuracy = 1.0\n",
      "Test accuracy  = 0.689\n"
     ]
    }
   ],
   "source": [
    "print(\"Train accuracy = \" + str(classifier.score(training_LS, training_labels)))\n",
    "print(\"Test accuracy  = \" + str(classifier.score(test_LS, test_labels))) "
   ]
  },
  {
   "cell_type": "markdown",
   "id": "ded54e38",
   "metadata": {},
   "source": [
    "## Cross validation for method and parameter selection"
   ]
  },
  {
   "cell_type": "code",
   "execution_count": 21,
   "id": "341534ff",
   "metadata": {},
   "outputs": [],
   "source": [
    "from sklearn.preprocessing   import MinMaxScaler\n",
    "from sklearn.pipeline        import Pipeline\n",
    "from sklearn.svm             import SVC\n",
    "from sklearn.model_selection import GridSearchCV"
   ]
  },
  {
   "cell_type": "markdown",
   "id": "8fc888d3",
   "metadata": {},
   "source": [
    "We would like to compare many different vectorisation methods and parameters. Here, we create a pipeline with different parameters and use GridSearchCV with 5-fold cross validation to find the best estimator between all possibilities. We follow this [tutorial](https://github.com/GUDHI/TDA-tutorial/blob/master/Tuto-GUDHI-representations.ipynb). "
   ]
  },
  {
   "cell_type": "code",
   "execution_count": 22,
   "id": "92f0e0cc",
   "metadata": {},
   "outputs": [],
   "source": [
    "# I do not understand why we have to set PI for \"TDA\" neither an \"Estimator\" as a RandomForestClassifier\n",
    "# I guess it is needed to add one especific method to later change it as a parameter\n",
    "pipe = Pipeline([(\"Separator\", gd.representations.DiagramSelector(limit=np.inf, point_type=\"finite\")),\n",
    "                 (\"Scaler\",    gd.representations.DiagramScaler(scalers=[([0,1], MinMaxScaler())])),\n",
    "                 (\"TDA\",       gd.representations.PersistenceImage()),\n",
    "                 (\"Estimator\", RandomForestClassifier())])"
   ]
  },
  {
   "cell_type": "code",
   "execution_count": 23,
   "id": "f3bb70e9",
   "metadata": {},
   "outputs": [],
   "source": [
    "# Parameters of pipeline. This is the place where you specify the methods you want to use\n",
    "param =    [{\"Scaler__use\":         [True],\n",
    "             \"TDA\":                 [gd.representations.PersistenceImage()], \n",
    "             \"TDA__resolution\":     [ [5,5], [6,6] ],\n",
    "             \"TDA__bandwidth\":      [0.01, 0.1, 1.0, 10.0],\n",
    "             \"Estimator\":           [SVC(), RandomForestClassifier()]},\n",
    "            \n",
    "            {\"Scaler__use\":         [True],\n",
    "             \"TDA\":                 [gd.representations.Landscape()], \n",
    "             \"TDA__resolution\":     [100],\n",
    "             \"Estimator\":           [SVC(), RandomForestClassifier()]},\n",
    "            \n",
    "            {\"Scaler__use\":         [True],\n",
    "             \"TDA\":                 [gd.representations.BettiCurve()], \n",
    "             \"TDA__resolution\":     [100],\n",
    "             \"Estimator\":           [SVC(), RandomForestClassifier()]}\n",
    "           ]"
   ]
  },
  {
   "cell_type": "code",
   "execution_count": 24,
   "id": "98b97cc7",
   "metadata": {},
   "outputs": [],
   "source": [
    "model = GridSearchCV(pipe, param, cv=5)\n",
    "model = model.fit(training_pds_1, training_labels)"
   ]
  },
  {
   "cell_type": "code",
   "execution_count": 25,
   "id": "f273b78d",
   "metadata": {},
   "outputs": [
    {
     "name": "stdout",
     "output_type": "stream",
     "text": [
      "The method and parameters with the best accuracy are \n",
      "\n",
      "{'Estimator': SVC(), 'Scaler__use': True, 'TDA': PersistenceImage(bandwidth=0.1, resolution=[6, 6]), 'TDA__bandwidth': 0.1, 'TDA__resolution': [6, 6]}\n"
     ]
    }
   ],
   "source": [
    "print(\"The method and parameters with the best accuracy are \")\n",
    "print()\n",
    "print(model.best_params_)"
   ]
  },
  {
   "cell_type": "code",
   "execution_count": 26,
   "id": "92e9c3ea",
   "metadata": {},
   "outputs": [
    {
     "name": "stdout",
     "output_type": "stream",
     "text": [
      "Train accuracy = 0.7373\n",
      "Test accuracy  = 0.719\n"
     ]
    }
   ],
   "source": [
    "print(\"Train accuracy = \" + str(model.score(training_pds_1, training_labels)))\n",
    "print(\"Test accuracy  = \" + str(model.score(test_pds_1,  test_labels)))"
   ]
  },
  {
   "cell_type": "markdown",
   "id": "2e27fa48",
   "metadata": {},
   "source": [
    "We can also extract the complete list whith the scores for each selection of parameters "
   ]
  },
  {
   "cell_type": "code",
   "execution_count": 27,
   "id": "cb64950d",
   "metadata": {},
   "outputs": [
    {
     "name": "stdout",
     "output_type": "stream",
     "text": [
      "0.5583 {'Estimator': SVC(), 'Scaler__use': True, 'TDA': PersistenceImage(bandwidth=0.1, resolution=[6, 6]), 'TDA__bandwidth': 0.01, 'TDA__resolution': [5, 5]}\n",
      "0.5622 {'Estimator': SVC(), 'Scaler__use': True, 'TDA': PersistenceImage(bandwidth=0.1, resolution=[6, 6]), 'TDA__bandwidth': 0.01, 'TDA__resolution': [6, 6]}\n",
      "0.7214 {'Estimator': SVC(), 'Scaler__use': True, 'TDA': PersistenceImage(bandwidth=0.1, resolution=[6, 6]), 'TDA__bandwidth': 0.1, 'TDA__resolution': [5, 5]}\n",
      "0.7271 {'Estimator': SVC(), 'Scaler__use': True, 'TDA': PersistenceImage(bandwidth=0.1, resolution=[6, 6]), 'TDA__bandwidth': 0.1, 'TDA__resolution': [6, 6]}\n",
      "0.6719 {'Estimator': SVC(), 'Scaler__use': True, 'TDA': PersistenceImage(bandwidth=0.1, resolution=[6, 6]), 'TDA__bandwidth': 1.0, 'TDA__resolution': [5, 5]}\n",
      "0.6718 {'Estimator': SVC(), 'Scaler__use': True, 'TDA': PersistenceImage(bandwidth=0.1, resolution=[6, 6]), 'TDA__bandwidth': 1.0, 'TDA__resolution': [6, 6]}\n",
      "0.6685000000000001 {'Estimator': SVC(), 'Scaler__use': True, 'TDA': PersistenceImage(bandwidth=0.1, resolution=[6, 6]), 'TDA__bandwidth': 10.0, 'TDA__resolution': [5, 5]}\n",
      "0.6692 {'Estimator': SVC(), 'Scaler__use': True, 'TDA': PersistenceImage(bandwidth=0.1, resolution=[6, 6]), 'TDA__bandwidth': 10.0, 'TDA__resolution': [6, 6]}\n",
      "0.611 {'Estimator': RandomForestClassifier(), 'Scaler__use': True, 'TDA': PersistenceImage(bandwidth=0.1, resolution=[6, 6]), 'TDA__bandwidth': 0.01, 'TDA__resolution': [5, 5]}\n",
      "0.6213 {'Estimator': RandomForestClassifier(), 'Scaler__use': True, 'TDA': PersistenceImage(bandwidth=0.1, resolution=[6, 6]), 'TDA__bandwidth': 0.01, 'TDA__resolution': [6, 6]}\n",
      "0.7224000000000002 {'Estimator': RandomForestClassifier(), 'Scaler__use': True, 'TDA': PersistenceImage(bandwidth=0.1, resolution=[6, 6]), 'TDA__bandwidth': 0.1, 'TDA__resolution': [5, 5]}\n",
      "0.7255 {'Estimator': RandomForestClassifier(), 'Scaler__use': True, 'TDA': PersistenceImage(bandwidth=0.1, resolution=[6, 6]), 'TDA__bandwidth': 0.1, 'TDA__resolution': [6, 6]}\n",
      "0.6445 {'Estimator': RandomForestClassifier(), 'Scaler__use': True, 'TDA': PersistenceImage(bandwidth=0.1, resolution=[6, 6]), 'TDA__bandwidth': 1.0, 'TDA__resolution': [5, 5]}\n",
      "0.6466 {'Estimator': RandomForestClassifier(), 'Scaler__use': True, 'TDA': PersistenceImage(bandwidth=0.1, resolution=[6, 6]), 'TDA__bandwidth': 1.0, 'TDA__resolution': [6, 6]}\n",
      "0.6292 {'Estimator': RandomForestClassifier(), 'Scaler__use': True, 'TDA': PersistenceImage(bandwidth=0.1, resolution=[6, 6]), 'TDA__bandwidth': 10.0, 'TDA__resolution': [5, 5]}\n",
      "0.633 {'Estimator': RandomForestClassifier(), 'Scaler__use': True, 'TDA': PersistenceImage(bandwidth=0.1, resolution=[6, 6]), 'TDA__bandwidth': 10.0, 'TDA__resolution': [6, 6]}\n",
      "0.6806000000000001 {'Estimator': SVC(), 'Scaler__use': True, 'TDA': Landscape(), 'TDA__resolution': 100}\n",
      "0.6871 {'Estimator': RandomForestClassifier(), 'Scaler__use': True, 'TDA': Landscape(), 'TDA__resolution': 100}\n",
      "0.7026 {'Estimator': SVC(), 'Scaler__use': True, 'TDA': BettiCurve(), 'TDA__resolution': 100}\n",
      "0.6909 {'Estimator': RandomForestClassifier(), 'Scaler__use': True, 'TDA': BettiCurve(), 'TDA__resolution': 100}\n"
     ]
    }
   ],
   "source": [
    "results = model.cv_results_\n",
    "for mean_score, params in zip(results[\"mean_test_score\"], results[\"params\"]):\n",
    "    print(mean_score, params)"
   ]
  },
  {
   "cell_type": "code",
   "execution_count": null,
   "id": "e6764e29",
   "metadata": {},
   "outputs": [],
   "source": []
  }
 ],
 "metadata": {
  "kernelspec": {
   "display_name": "Python 3 (ipykernel)",
   "language": "python",
   "name": "python3"
  },
  "language_info": {
   "codemirror_mode": {
    "name": "ipython",
    "version": 3
   },
   "file_extension": ".py",
   "mimetype": "text/x-python",
   "name": "python",
   "nbconvert_exporter": "python",
   "pygments_lexer": "ipython3",
   "version": "3.8.10"
  }
 },
 "nbformat": 4,
 "nbformat_minor": 5
}
