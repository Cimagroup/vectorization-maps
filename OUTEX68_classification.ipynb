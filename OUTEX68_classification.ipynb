{
 "cells": [
  {
   "cell_type": "markdown",
   "id": "c0342c11",
   "metadata": {},
   "source": [
    "## Classifying Outex-68"
   ]
  },
  {
   "cell_type": "code",
   "execution_count": 2,
   "id": "aad156ff",
   "metadata": {},
   "outputs": [],
   "source": [
    "import pickle\n",
    "import pandas as pd\n",
    "import numpy as np\n",
    "from sklearn.ensemble import RandomForestClassifier\n",
    "from sklearn.model_selection import cross_val_score\n",
    "from vectorization import *"
   ]
  },
  {
   "cell_type": "code",
   "execution_count": 3,
   "id": "69c6ae83",
   "metadata": {},
   "outputs": [],
   "source": [
    "path_feat = \"Outex-TC-00024/features/\"\n",
    "path_res = \"Outex-TC-00024/results/\"\n",
    "path_data = \"Outex-TC-00024/data/000/\""
   ]
  },
  {
   "cell_type": "code",
   "execution_count": 4,
   "id": "4c7d2b5a",
   "metadata": {},
   "outputs": [],
   "source": [
    "with open(path_feat + 'l_d0.pkl', 'rb') as f:\n",
    "    features_l_d0 = pickle.load(f)\n",
    "with open(path_feat + 'l_d1.pkl', 'rb') as f:\n",
    "    features_l_d1 = pickle.load(f)\n",
    "with open(path_feat + 'u_d0.pkl', 'rb') as f:\n",
    "    features_u_d0 = pickle.load(f)\n",
    "with open(path_feat + 'u_d1.pkl', 'rb') as f:\n",
    "    features_u_d1 = pickle.load(f)"
   ]
  },
  {
   "cell_type": "code",
   "execution_count": 5,
   "id": "af844b7f",
   "metadata": {},
   "outputs": [],
   "source": [
    "func_list = [GetPersStats,\n",
    "             GetPersImageFeature,\n",
    "             GetPersLandscapeFeature,\n",
    "             GetPersEntropyFeature,\n",
    "             GetBettiCurveFeature,\n",
    "             GetCarlssonCoordinatesFeature,\n",
    "             GetPersSilhouetteFeature,\n",
    "             GetTopologicalVectorFeature,\n",
    "             GetAtolFeature,\n",
    "             GetComplexPolynomialFeature,\n",
    "             GetPersLifespanFeature,\n",
    "             GetPersTropicalCoordinatesFeature\n",
    "            ]"
   ]
  },
  {
   "cell_type": "code",
   "execution_count": 6,
   "id": "f37a7c46",
   "metadata": {},
   "outputs": [],
   "source": [
    "features = {}\n",
    "for i in range(2720):\n",
    "    for func in func_list:\n",
    "        features[(func.__name__)+'_'+str(i)] = np.hstack([features_l_d0[(func.__name__)+'_'+str(i)],features_l_d1[(func.__name__)+'_'+str(i)],features_u_d0[(func.__name__)+'_'+str(i)],features_u_d1[(func.__name__)+'_'+str(i)]])"
   ]
  },
  {
   "cell_type": "code",
   "execution_count": 7,
   "id": "1f6d9959",
   "metadata": {},
   "outputs": [],
   "source": [
    "train_labels = np.array(pd.read_csv(path_data + \"train.txt\", sep=\" \", usecols=[1]).to_numpy().flatten().tolist())\n",
    "test_labels = np.array(pd.read_csv(path_data + \"test.txt\", sep=\" \", usecols=[1]).to_numpy().flatten().tolist())\n",
    "\n",
    "train_indexes = list(range(1360))\n",
    "test_indexes = list(range(1360,2720))"
   ]
  },
  {
   "cell_type": "markdown",
   "id": "120f487e",
   "metadata": {},
   "source": [
    "### Classical Training-Test"
   ]
  },
  {
   "cell_type": "code",
   "execution_count": 18,
   "id": "41f58803",
   "metadata": {},
   "outputs": [],
   "source": [
    "def classification(train_labels, test_labels, train_indexes, test_indexes, func_list, features):\n",
    "    train_scores = dict()\n",
    "    test_scores = dict()\n",
    "    for func in func_list:\n",
    "        X = []\n",
    "        Y = []\n",
    "        for i in train_indexes:\n",
    "            name = (func.__name__)+'_'+str(i)\n",
    "            X.append(features[name])\n",
    "        clf = RandomForestClassifier()\n",
    "        clf = clf.fit(X, train_labels)      \n",
    "        train_scores[func] = clf.score(X, train_labels)\n",
    "        for i in test_indexes:\n",
    "            name = (func.__name__)+'_'+str(i)\n",
    "            Y.append(features[name])\n",
    "        test_scores[func.__name__] = clf.score(Y, test_labels)\n",
    "        \n",
    "    return train_scores, test_scores"
   ]
  },
  {
   "cell_type": "code",
   "execution_count": 10,
   "id": "ad28c137",
   "metadata": {},
   "outputs": [],
   "source": [
    "n = 10\n",
    "scores_vector = np.zeros([n, len(func_list)])\n",
    "for i in range(n):\n",
    "    train_scores, test_scores = classification(train_labels, test_labels, train_index, test_index, func_list)\n",
    "    scores_vector[i, :] = np.array([x[1] for x in list(test_scores.items())])"
   ]
  },
  {
   "cell_type": "code",
   "execution_count": 11,
   "id": "dc3a56ff",
   "metadata": {},
   "outputs": [],
   "source": [
    "scores_avg = dict()\n",
    "for j in range(len(func_list)):\n",
    "    scores_avg[func_list[j].__name__] = (scores_vector[:,j].mean(), scores_vector[:,j].std())"
   ]
  },
  {
   "cell_type": "code",
   "execution_count": 12,
   "id": "1716a964",
   "metadata": {},
   "outputs": [],
   "source": [
    "with open(path_res + '68-train-test_score.pkl', 'wb') as f:\n",
    "  pickle.dump(scores_avg, f)"
   ]
  },
  {
   "cell_type": "code",
   "execution_count": 13,
   "id": "9b7c40bd",
   "metadata": {},
   "outputs": [
    {
     "data": {
      "text/plain": [
       "{'GetPersStats': (0.5674264705882354, 0.006037028904442944),\n",
       " 'GetPersImageFeature': (0.5088970588235294, 0.006260372016539201),\n",
       " 'GetPersLandscapeFeature': (0.46448529411764705, 0.0043630893232784775),\n",
       " 'GetPersEntropyFeature': (0.5183823529411764, 0.005845472621868194),\n",
       " 'GetBettiCurveFeature': (0.5600735294117648, 0.005312977029264724),\n",
       " 'GetCarlssonCoordinatesFeature': (0.4803676470588235, 0.004900060906337096),\n",
       " 'GetPersSilhouetteFeature': (0.45786764705882355, 0.004998377764516867),\n",
       " 'GetTopologicalVectorFeature': (0.3610294117647059, 0.004954376625859713),\n",
       " 'GetAtolFeature': (0.40764705882352936, 0.007376433061167325),\n",
       " 'GetComplexPolynomialFeature': (0.1488235294117647, 0.007521595207379072),\n",
       " 'GetPersLifespanFeature': (0.6314705882352941, 0.005248990675757259),\n",
       " 'GetPersTropicalCoordinatesFeature': (0.5697058823529411,\n",
       "  0.007547427894327249)}"
      ]
     },
     "execution_count": 13,
     "metadata": {},
     "output_type": "execute_result"
    }
   ],
   "source": [
    "scores_avg"
   ]
  },
  {
   "cell_type": "markdown",
   "id": "d0811bd8",
   "metadata": {},
   "source": [
    "### K-Fold Cross Validation with the Training Set"
   ]
  },
  {
   "cell_type": "code",
   "execution_count": 22,
   "id": "2a50efb2",
   "metadata": {},
   "outputs": [],
   "source": [
    "def kfold_classification(labels, indexes, func_list, features, n=5):\n",
    "    scores = dict()\n",
    "    for func in func_list:\n",
    "        X = []\n",
    "        for i in indexes:\n",
    "            name = (func.__name__)+'_'+str(i)\n",
    "            X.append(features[name])\n",
    "        clf = RandomForestClassifier()\n",
    "        score = cross_val_score(clf, X, labels, cv=n)\n",
    "        scores[func.__name__] = (score.mean(), score.std())\n",
    "        \n",
    "    return scores"
   ]
  },
  {
   "cell_type": "code",
   "execution_count": 23,
   "id": "92ff30ed",
   "metadata": {},
   "outputs": [],
   "source": [
    "scores_avg = kfold_classification(labels=train_labels, indexes=train_index, func_list=func_list, features=features,n=10)\n",
    "with open(path_res + '68-k-fold_train_scores.pkl', 'wb') as f:\n",
    "  pickle.dump(scores_avg, f)"
   ]
  },
  {
   "cell_type": "code",
   "execution_count": 24,
   "id": "f02b66aa",
   "metadata": {},
   "outputs": [
    {
     "data": {
      "text/plain": [
       "{'GetPersStats': (0.8801470588235294, 0.03677205808838231),\n",
       " 'GetPersImageFeature': (0.7205882352941176, 0.041594516540385144),\n",
       " 'GetPersLandscapeFeature': (0.7852941176470589, 0.03929526239966877),\n",
       " 'GetPersEntropyFeature': (0.8, 0.049303101806588846),\n",
       " 'GetBettiCurveFeature': (0.7933823529411765, 0.027403889931741518),\n",
       " 'GetCarlssonCoordinatesFeature': (0.8441176470588235, 0.05871313169905038),\n",
       " 'GetPersSilhouetteFeature': (0.8264705882352942, 0.04664338684456972),\n",
       " 'GetTopologicalVectorFeature': (0.6441176470588236, 0.05630644035022543),\n",
       " 'GetAtolFeature': (0.5779411764705882, 0.05828800347825417),\n",
       " 'GetComplexPolynomialFeature': (0.9602941176470587, 0.01923043651562061),\n",
       " 'GetPersLifespanFeature': (0.8257352941176471, 0.03120455172635729),\n",
       " 'GetPersTropicalCoordinatesFeature': (0.8566176470588236,\n",
       "  0.06118866535696042)}"
      ]
     },
     "execution_count": 24,
     "metadata": {},
     "output_type": "execute_result"
    }
   ],
   "source": [
    "scores_avg"
   ]
  },
  {
   "cell_type": "markdown",
   "id": "664b9f63",
   "metadata": {},
   "source": [
    "### K-Fold Cross Validation with the Whole Set"
   ]
  },
  {
   "cell_type": "code",
   "execution_count": 9,
   "id": "b2e6825c",
   "metadata": {},
   "outputs": [],
   "source": [
    "whole_labels = train_labels+test_labels\n",
    "whole_index = train_indexes + test_indexes"
   ]
  },
  {
   "cell_type": "code",
   "execution_count": 10,
   "id": "7fea7674",
   "metadata": {},
   "outputs": [
    {
     "ename": "NameError",
     "evalue": "name 'kfold_classification' is not defined",
     "output_type": "error",
     "traceback": [
      "\u001b[0;31m---------------------------------------------------------------------------\u001b[0m",
      "\u001b[0;31mNameError\u001b[0m                                 Traceback (most recent call last)",
      "\u001b[0;32m/tmp/ipykernel_132943/1317343590.py\u001b[0m in \u001b[0;36m<module>\u001b[0;34m\u001b[0m\n\u001b[0;32m----> 1\u001b[0;31m \u001b[0mscores_avg\u001b[0m \u001b[0;34m=\u001b[0m \u001b[0mkfold_classification\u001b[0m\u001b[0;34m(\u001b[0m\u001b[0mlabels\u001b[0m\u001b[0;34m=\u001b[0m\u001b[0mwhole_labels\u001b[0m\u001b[0;34m,\u001b[0m \u001b[0mindexes\u001b[0m\u001b[0;34m=\u001b[0m\u001b[0mwhole_index\u001b[0m\u001b[0;34m,\u001b[0m \u001b[0mfunc_list\u001b[0m\u001b[0;34m=\u001b[0m\u001b[0mfunc_list\u001b[0m\u001b[0;34m,\u001b[0m \u001b[0mn\u001b[0m\u001b[0;34m=\u001b[0m\u001b[0;36m10\u001b[0m\u001b[0;34m)\u001b[0m\u001b[0;34m\u001b[0m\u001b[0;34m\u001b[0m\u001b[0m\n\u001b[0m\u001b[1;32m      2\u001b[0m \u001b[0;32mwith\u001b[0m \u001b[0mopen\u001b[0m\u001b[0;34m(\u001b[0m\u001b[0mpath_res\u001b[0m \u001b[0;34m+\u001b[0m \u001b[0;34m'68-k-fold_whole_scores.pkl'\u001b[0m\u001b[0;34m,\u001b[0m \u001b[0;34m'wb'\u001b[0m\u001b[0;34m)\u001b[0m \u001b[0;32mas\u001b[0m \u001b[0mf\u001b[0m\u001b[0;34m:\u001b[0m\u001b[0;34m\u001b[0m\u001b[0;34m\u001b[0m\u001b[0m\n\u001b[1;32m      3\u001b[0m   \u001b[0mpickle\u001b[0m\u001b[0;34m.\u001b[0m\u001b[0mdump\u001b[0m\u001b[0;34m(\u001b[0m\u001b[0mscores_avg\u001b[0m\u001b[0;34m,\u001b[0m \u001b[0mf\u001b[0m\u001b[0;34m)\u001b[0m\u001b[0;34m\u001b[0m\u001b[0;34m\u001b[0m\u001b[0m\n",
      "\u001b[0;31mNameError\u001b[0m: name 'kfold_classification' is not defined"
     ]
    }
   ],
   "source": [
    "scores_avg = kfold_classification(labels=whole_labels, indexes=whole_index, func_list=func_list, n=10)    \n",
    "with open(path_res + '68-k-fold_whole_scores.pkl', 'wb') as f:\n",
    "  pickle.dump(scores_avg, f)"
   ]
  },
  {
   "cell_type": "code",
   "execution_count": 28,
   "id": "746718c6",
   "metadata": {},
   "outputs": [
    {
     "data": {
      "text/plain": [
       "{'GetPersStats': (0.8654411764705883, 0.05684161202966967),\n",
       " 'GetPersImageFeature': (0.6933823529411766, 0.05815799980377997),\n",
       " 'GetPersLandscapeFeature': (0.7613970588235294, 0.06423731580798293),\n",
       " 'GetPersEntropyFeature': (0.7658088235294118, 0.07697883280936416),\n",
       " 'GetBettiCurveFeature': (0.7871323529411764, 0.04058963392730884),\n",
       " 'GetCarlssonCoordinatesFeature': (0.8136029411764707, 0.07316176470588236),\n",
       " 'GetPersSilhouetteFeature': (0.8147058823529412, 0.04765817771499647),\n",
       " 'GetTopologicalVectorFeature': (0.5761029411764705, 0.07117650856829322),\n",
       " 'GetAtolFeature': (0.586764705882353, 0.024175415033490577),\n",
       " 'GetComplexPolynomialFeature': (0.9294117647058823, 0.044568771943211),\n",
       " 'GetPersLifespanFeature': (0.8198529411764707, 0.04719648981141535),\n",
       " 'GetPersTropicalCoordinatesFeature': (0.8496323529411764,\n",
       "  0.05148240410592682)}"
      ]
     },
     "execution_count": 28,
     "metadata": {},
     "output_type": "execute_result"
    }
   ],
   "source": [
    "scores_avg"
   ]
  },
  {
   "cell_type": "markdown",
   "id": "72339fff",
   "metadata": {},
   "source": [
    "### Classical Training-Test 70/30"
   ]
  },
  {
   "cell_type": "code",
   "execution_count": 11,
   "id": "30b70294",
   "metadata": {},
   "outputs": [],
   "source": [
    "indexes = np.hstack([train_indexes, test_indexes])\n",
    "labels = np.hstack([train_labels, test_labels])"
   ]
  },
  {
   "cell_type": "code",
   "execution_count": 12,
   "id": "f2ca139e",
   "metadata": {},
   "outputs": [],
   "source": [
    "from sklearn.model_selection import train_test_split\n",
    "X_train, X_test, y_train, y_test = train_test_split(indexes, labels, test_size=0.3, random_state=1)"
   ]
  },
  {
   "cell_type": "code",
   "execution_count": 19,
   "id": "a09e77d2",
   "metadata": {},
   "outputs": [],
   "source": [
    "n = 10\n",
    "scores_vector = np.zeros([n, len(func_list)])\n",
    "for i in range(n):\n",
    "    train_scores, test_scores = classification(train_labels=y_train, test_labels=y_test, train_indexes=X_train, test_indexes=X_test, func_list=func_list, features=features)\n",
    "    scores_vector[i, :] = np.array([x[1] for x in list(test_scores.items())])\n",
    "    \n",
    "scores_avg = dict()\n",
    "for j in range(len(func_list)):\n",
    "    scores_avg[func_list[j].__name__] = (scores_vector[:,j].mean(), scores_vector[:,j].std())\n",
    "    \n",
    "with open('68-7030-scores.pkl', 'wb') as f:\n",
    "  pickle.dump(scores_avg, f)"
   ]
  },
  {
   "cell_type": "code",
   "execution_count": 20,
   "id": "103017ea",
   "metadata": {},
   "outputs": [
    {
     "data": {
      "text/plain": [
       "{'GetPersStats': (0.878921568627451, 0.003944479642017408),\n",
       " 'GetPersImageFeature': (0.7087009803921568, 0.009986805260725162),\n",
       " 'GetPersLandscapeFeature': (0.7792892156862744, 0.006518179483809878),\n",
       " 'GetPersEntropyFeature': (0.7642156862745099, 0.0056212475201861635),\n",
       " 'GetBettiCurveFeature': (0.7848039215686275, 0.008651648330746435),\n",
       " 'GetCarlssonCoordinatesFeature': (0.8435049019607843, 0.003150725522593724),\n",
       " 'GetPersSilhouetteFeature': (0.8140931372549021, 0.00675799788184421),\n",
       " 'GetTopologicalVectorFeature': (0.6155637254901961, 0.0028504174876502367),\n",
       " 'GetAtolFeature': (0.5897058823529412, 0.003828553762699327),\n",
       " 'GetComplexPolynomialFeature': (0.9542892156862746, 0.0037990196078431697),\n",
       " 'GetPersLifespanFeature': (0.8280637254901961, 0.005426860251344272),\n",
       " 'GetPersTropicalCoordinatesFeature': (0.8497549019607844,\n",
       "  0.004144983952276398)}"
      ]
     },
     "execution_count": 20,
     "metadata": {},
     "output_type": "execute_result"
    }
   ],
   "source": [
    "scores_avg"
   ]
  },
  {
   "cell_type": "code",
   "execution_count": null,
   "id": "0107c3c2",
   "metadata": {},
   "outputs": [],
   "source": []
  }
 ],
 "metadata": {
  "kernelspec": {
   "display_name": "Python 3 (ipykernel)",
   "language": "python",
   "name": "python3"
  },
  "language_info": {
   "codemirror_mode": {
    "name": "ipython",
    "version": 3
   },
   "file_extension": ".py",
   "mimetype": "text/x-python",
   "name": "python",
   "nbconvert_exporter": "python",
   "pygments_lexer": "ipython3",
   "version": "3.8.10"
  }
 },
 "nbformat": 4,
 "nbformat_minor": 5
}
