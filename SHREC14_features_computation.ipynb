{
 "cells": [
  {
   "cell_type": "code",
   "execution_count": 2,
   "metadata": {},
   "outputs": [],
   "source": [
    "import pywavefront\n",
    "import pickle\n",
    "import gudhi as gd\n",
    "import extract_featurized_barcodes as ex\n",
    "import numpy as np\n",
    "from ripser import ripser"
   ]
  },
  {
   "cell_type": "markdown",
   "metadata": {},
   "source": [
    "## We create a dictionary\n",
    "* keys   : data_i for each element of the dataset\n",
    "* values : vertices for data_i"
   ]
  },
  {
   "cell_type": "code",
   "execution_count": 3,
   "metadata": {},
   "outputs": [],
   "source": [
    "#dataset = dict()\n",
    "#for i in range(0,400):\n",
    "#    dataset[\"data_\"+str(i)]= [[a,b,c] for (a,b,c) in pywavefront.Wavefront(\"Data/\"+str(i)+\".obj\").vertices]\n",
    "#with open('saved_dataset.pkl', 'wb') as f:\n",
    "#   pickle.dump(dataset, f)"
   ]
  },
  {
   "cell_type": "markdown",
   "metadata": {},
   "source": [
    "## Loading the dictionary"
   ]
  },
  {
   "cell_type": "code",
   "execution_count": 15,
   "metadata": {},
   "outputs": [],
   "source": [
    "with open('Shrec14/saved_dataset.pkl', 'rb') as f:\n",
    "    dataset = pickle.load(f)"
   ]
  },
  {
   "cell_type": "code",
   "execution_count": 5,
   "metadata": {},
   "outputs": [
    {
     "name": "stdout",
     "output_type": "stream",
     "text": [
      "The number of 3D points of the model 4 is 15000\n"
     ]
    }
   ],
   "source": [
    "print(\"The number of 3D points of the model\", 4,\"is\",len(dataset[\"data_4\"]))"
   ]
  },
  {
   "cell_type": "markdown",
   "metadata": {},
   "source": [
    "# Vietoris Rips filtration and persistence diagrams"
   ]
  },
  {
   "cell_type": "markdown",
   "metadata": {},
   "source": [
    "Computing persistence diagrams and save to files"
   ]
  },
  {
   "cell_type": "code",
   "execution_count": 6,
   "metadata": {},
   "outputs": [],
   "source": [
    "#for i in range(0,400):\n",
    "#    diagram = ripser(np.array(dataset[\"data_\"+str(i)]),maxdim=0)['dgms']\n",
    "#    np.savetxt(\"pdiagrams/d0_\"+str(i),diagram[0])    "
   ]
  },
  {
   "cell_type": "markdown",
   "metadata": {},
   "source": [
    "To load the saved persistence diagrams"
   ]
  },
  {
   "cell_type": "code",
   "execution_count": 7,
   "metadata": {},
   "outputs": [],
   "source": [
    "pdiagrams = dict()\n",
    "for i in range(0,400):\n",
    "    pdiagrams[\"pdiag_\"+str(i)]= np.loadtxt(\"Shrec14/pdiagrams/d0_\"+str(i))"
   ]
  },
  {
   "cell_type": "code",
   "execution_count": 8,
   "metadata": {},
   "outputs": [
    {
     "data": {
      "text/plain": [
       "array([[0.        , 0.00218175],\n",
       "       [0.        , 0.00238469],\n",
       "       [0.        , 0.0024299 ],\n",
       "       ...,\n",
       "       [0.        , 0.02158073],\n",
       "       [0.        , 0.02161944],\n",
       "       [0.        ,        inf]])"
      ]
     },
     "execution_count": 8,
     "metadata": {},
     "output_type": "execute_result"
    }
   ],
   "source": [
    "pdiagrams[\"pdiag_1\"]"
   ]
  },
  {
   "cell_type": "markdown",
   "metadata": {},
   "source": [
    "### Labels of the dataset\n",
    "\n",
    "The dataset is composed of 400 models and 40 different balanced classes."
   ]
  },
  {
   "cell_type": "code",
   "execution_count": 10,
   "metadata": {
    "scrolled": false
   },
   "outputs": [],
   "source": [
    "labels=np.concatenate([[i]*10 for i in range(40)])"
   ]
  },
  {
   "cell_type": "markdown",
   "metadata": {},
   "source": [
    "Applying the featurization methods"
   ]
  },
  {
   "cell_type": "code",
   "execution_count": 11,
   "metadata": {},
   "outputs": [],
   "source": [
    "func_list = [ex.GetPersStats,\n",
    "             ex.GetPersLifespanFeature,\n",
    "             ex.GetPersImageFeature,\n",
    "             ex.GetPersLandscapeFeature,\n",
    "             ex.GetPersEntropyFeature,\n",
    "             ex.GetBettiCurveFeature,\n",
    "             ex.GetCarlssonCoordinatesFeature,\n",
    "             ex.GetPersSilhouetteFeature,\n",
    "             ex.GetTopologicalVectorFeature,\n",
    "             # ex.GetAtolFeature,\n",
    "             ex.GetComplexPolynomialFeature,\n",
    "             ex.GetPersLifespanFeature,\n",
    "             ex.GetPersTropicalCoordinatesFeature\n",
    "            ]"
   ]
  },
  {
   "cell_type": "code",
   "execution_count": 12,
   "metadata": {},
   "outputs": [],
   "source": [
    "features = dict()\n",
    "for func in func_list:\n",
    "    features[func.__name__]=func(pdiagrams[\"pdiag_1\"][:-1]) # [:-1] to remove infinity bar"
   ]
  },
  {
   "cell_type": "code",
   "execution_count": 13,
   "metadata": {
    "scrolled": true
   },
   "outputs": [
    {
     "data": {
      "text/plain": [
       "array([0.00000000e+00, 9.64734221e-03, 0.00000000e+00, 2.86479187e-03,\n",
       "       0.00000000e+00, 9.37512796e-03, 9.64734221e-03, 2.86479187e-03,\n",
       "       9.37512796e-03, 1.49950000e+04, 9.57144949e+00])"
      ]
     },
     "execution_count": 13,
     "metadata": {},
     "output_type": "execute_result"
    }
   ],
   "source": [
    "features[\"GetPersStats\"]"
   ]
  }
 ],
 "metadata": {
  "kernelspec": {
   "display_name": "Python 3",
   "language": "python",
   "name": "python3"
  },
  "language_info": {
   "codemirror_mode": {
    "name": "ipython",
    "version": 3
   },
   "file_extension": ".py",
   "mimetype": "text/x-python",
   "name": "python",
   "nbconvert_exporter": "python",
   "pygments_lexer": "ipython3",
   "version": "3.8.5"
  }
 },
 "nbformat": 4,
 "nbformat_minor": 4
}
