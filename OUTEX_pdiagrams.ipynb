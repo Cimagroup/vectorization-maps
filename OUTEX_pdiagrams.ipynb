{
 "cells": [
  {
   "cell_type": "code",
   "execution_count": 7,
   "id": "8e788fb9",
   "metadata": {},
   "outputs": [],
   "source": [
    "import os\n",
    "import pickle\n",
    "import numpy as np\n",
    "from fashion_mnist import mnist_reader\n",
    "from vectorization import *\n",
    "import os\n",
    "from skimage import io\n",
    "import pandas as pd"
   ]
  },
  {
   "cell_type": "markdown",
   "id": "1b068f97",
   "metadata": {},
   "source": [
    "## Generate and save persistence diagrams"
   ]
  },
  {
   "cell_type": "code",
   "execution_count": 14,
   "id": "7ec06792",
   "metadata": {},
   "outputs": [],
   "source": [
    "folder = 'Outex-TC-00024/data/images'\n",
    "images_names = os.listdir(folder)\n",
    "images_names = list(filter(lambda x : x[0]!='.', images_names))"
   ]
  },
  {
   "cell_type": "code",
   "execution_count": 15,
   "id": "108ddb34",
   "metadata": {},
   "outputs": [],
   "source": [
    "images_matrixes = np.array(list(map(lambda x : io.imread(folder+'/'+x), images_names)), dtype=float)"
   ]
  },
  {
   "cell_type": "code",
   "execution_count": 16,
   "id": "018c4676",
   "metadata": {},
   "outputs": [],
   "source": [
    "path = \"Outex-TC-00024/data/000/\"\n",
    "train_names = pd.read_csv(path + \"train.txt\", sep=\" \", usecols=[0]).to_numpy().flatten().tolist()\n",
    "train_labels = pd.read_csv(path + \"train.txt\", sep=\" \", usecols=[1]).to_numpy().flatten().tolist()\n",
    "test_names = pd.read_csv(path + \"test.txt\", sep=\" \", usecols=[0]).to_numpy().flatten().tolist()\n",
    "test_labels = pd.read_csv(path + \"test.txt\", sep=\" \", usecols=[1]).to_numpy().flatten().tolist()"
   ]
  },
  {
   "cell_type": "code",
   "execution_count": 17,
   "id": "99713336",
   "metadata": {},
   "outputs": [],
   "source": [
    "train_indexes = list(map(lambda x : images_names.index(x), train_names))\n",
    "test_indexes = list(map(lambda x : images_names.index(x), test_names))"
   ]
  },
  {
   "cell_type": "code",
   "execution_count": 18,
   "id": "9974e9f7",
   "metadata": {},
   "outputs": [],
   "source": [
    "images_gudhi = np.array(list(map(lambda x : x.reshape(128*128,1), images_matrixes)))\n",
    "gudhi_train =  images_gudhi[train_indexes]\n",
    "gudhi_test = images_gudhi[test_indexes]\n",
    "\n",
    "gudhi_train_opp =  255 - gudhi_train\n",
    "gudhi_test_opp = 255 - gudhi_test"
   ]
  },
  {
   "cell_type": "code",
   "execution_count": 19,
   "id": "3003e304",
   "metadata": {},
   "outputs": [],
   "source": [
    "path_diag = \"Outex-TC-00024/pdiagrams/\""
   ]
  },
  {
   "cell_type": "code",
   "execution_count": 20,
   "id": "fc35a9ad",
   "metadata": {},
   "outputs": [],
   "source": [
    "for i in range(1360):\n",
    "    dgms = GetCubicalComplexPDs(img=gudhi_train[i], img_dim=[128,128])\n",
    "    np.savetxt(path_diag + \"l_d0_\"+str(i),dgms[0])\n",
    "    np.savetxt(path_diag + \"l_d1_\"+str(i),dgms[1])\n",
    "    \n",
    "    dgms = GetCubicalComplexPDs(img=gudhi_train_opp[i], img_dim=[128,128])\n",
    "    np.savetxt(path_diag + \"u_d0_\"+str(i),dgms[0])\n",
    "    np.savetxt(path_diag + \"u_d1_\"+str(i),dgms[1])"
   ]
  },
  {
   "cell_type": "code",
   "execution_count": 21,
   "id": "97a92d2d",
   "metadata": {},
   "outputs": [],
   "source": [
    "for i in range(1360):\n",
    "    j = 1360+i\n",
    "    dgms = GetCubicalComplexPDs(img=gudhi_test[i], img_dim=[128,128])\n",
    "    np.savetxt(path_diag + \"l_d0_\"+str(j),dgms[0])\n",
    "    np.savetxt(path_diag + \"l_d1_\"+str(j),dgms[1])\n",
    "    \n",
    "    dgms = GetCubicalComplexPDs(img=gudhi_test_opp[i], img_dim=[128,128])\n",
    "    np.savetxt(path_diag + \"u_d0_\"+str(j),dgms[0])\n",
    "    np.savetxt(path_diag + \"u_d1_\"+str(j),dgms[1])"
   ]
  },
  {
   "cell_type": "markdown",
   "id": "b9a70f0c",
   "metadata": {},
   "source": [
    "## Load Barcodes"
   ]
  },
  {
   "cell_type": "code",
   "execution_count": 8,
   "id": "5d7e28f3",
   "metadata": {},
   "outputs": [],
   "source": [
    "pdiagrams = dict()\n",
    "path_diag = \"Outex-TC-00024/pdiagrams/\"\n",
    "\n",
    "#Barcodes with just one bar are loaded as a 1d-array.\n",
    "#We force them to be a 2d-array\n",
    "def safe_load(x):\n",
    "    pd = np.loadtxt(x)\n",
    "    if (len(pd.shape)==1) and (pd.shape[0]>0): \n",
    "        pd = pd.reshape(1,2)\n",
    "    return pd\n",
    "\n",
    "for i in range(2720):\n",
    "    pdiagrams[\"pdiag_l_d0_\"+str(i)]= safe_load(path_diag + \"l_d0_\"+str(i))\n",
    "    pdiagrams[\"pdiag_l_d1_\"+str(i)]= safe_load(path_diag + \"l_d1_\"+str(i))\n",
    "    pdiagrams[\"pdiag_u_d0_\"+str(i)]= safe_load(path_diag + \"u_d0_\"+str(i))\n",
    "    pdiagrams[\"pdiag_u_d1_\"+str(i)]= safe_load(path_diag + \"u_d1_\"+str(i))"
   ]
  },
  {
   "cell_type": "markdown",
   "id": "0e91bc41",
   "metadata": {},
   "source": [
    "## Calculate Features"
   ]
  },
  {
   "cell_type": "code",
   "execution_count": 9,
   "id": "19b2a8e6",
   "metadata": {},
   "outputs": [],
   "source": [
    "func_list = [GetPersStats,\n",
    "             GetPersImageFeature,\n",
    "             GetPersLandscapeFeature,\n",
    "             GetPersEntropyFeature,\n",
    "             GetBettiCurveFeature,\n",
    "             GetCarlssonCoordinatesFeature,\n",
    "             GetPersSilhouetteFeature,\n",
    "             GetTopologicalVectorFeature,\n",
    "             GetAtolFeature,\n",
    "             GetComplexPolynomialFeature,\n",
    "             GetPersLifespanFeature,\n",
    "             GetPersTropicalCoordinatesFeature\n",
    "            ]"
   ]
  },
  {
   "cell_type": "code",
   "execution_count": 10,
   "id": "8db4570a",
   "metadata": {},
   "outputs": [
    {
     "name": "stdout",
     "output_type": "stream",
     "text": [
      "GetPersStats\n",
      "GetPersImageFeature\n",
      "GetPersLandscapeFeature\n",
      "GetPersEntropyFeature\n",
      "GetBettiCurveFeature\n",
      "GetCarlssonCoordinatesFeature\n",
      "GetPersSilhouetteFeature\n",
      "GetTopologicalVectorFeature\n"
     ]
    },
    {
     "name": "stderr",
     "output_type": "stream",
     "text": [
      "/home/manu/review/review/lib/python3.8/site-packages/sklearn/neighbors/_distance_metric.py:10: FutureWarning: sklearn.neighbors.DistanceMetric has been moved to sklearn.metrics.DistanceMetric in 1.0. This import path will be removed in 1.3\n",
      "  warnings.warn(\n"
     ]
    },
    {
     "name": "stdout",
     "output_type": "stream",
     "text": [
      "GetAtolFeature\n",
      "GetComplexPolynomialFeature\n"
     ]
    },
    {
     "name": "stderr",
     "output_type": "stream",
     "text": [
      "/home/manu/review/review/lib/python3.8/site-packages/gudhi/representations/vector_methods.py:579: RuntimeWarning: overflow encountered in cdouble_scalars\n",
      "  coeff[j] += ((-1) * roots[i-1] * coeff[j+1])\n",
      "/home/manu/review/review/lib/python3.8/site-packages/gudhi/representations/vector_methods.py:579: RuntimeWarning: invalid value encountered in cdouble_scalars\n",
      "  coeff[j] += ((-1) * roots[i-1] * coeff[j+1])\n"
     ]
    },
    {
     "name": "stdout",
     "output_type": "stream",
     "text": [
      "GetPersLifespanFeature\n",
      "GetPersTropicalCoordinatesFeature\n"
     ]
    }
   ],
   "source": [
    "features_l_d0 = dict()\n",
    "features_l_d1 = dict()\n",
    "features_u_d0 = dict()\n",
    "features_u_d1 = dict()\n",
    "\n",
    "for func in func_list:\n",
    "    print(func.__name__)\n",
    "    for i in range(2720):\n",
    "        features_l_d0[(func.__name__)+'_'+str(i)]=func(pdiagrams[\"pdiag_l_d0_\"+str(i)])\n",
    "        features_l_d1[(func.__name__)+'_'+str(i)]=func(pdiagrams[\"pdiag_l_d1_\"+str(i)])\n",
    "        features_u_d0[(func.__name__)+'_'+str(i)]=func(pdiagrams[\"pdiag_u_d0_\"+str(i)])\n",
    "        features_u_d1[(func.__name__)+'_'+str(i)]=func(pdiagrams[\"pdiag_u_d1_\"+str(i)])"
   ]
  },
  {
   "cell_type": "code",
   "execution_count": 11,
   "id": "2baf825b",
   "metadata": {},
   "outputs": [],
   "source": [
    "func = GetComplexPolynomialFeature\n",
    "complex_coeff = []\n",
    "\n",
    "for i in range(2720):\n",
    "    complex_coeff.append(features_l_d0[(func.__name__)+'_'+str(i)])\n",
    "for i in range(2720):\n",
    "    complex_coeff.append(features_l_d1[(func.__name__)+'_'+str(i)])\n",
    "for i in range(2720):\n",
    "    complex_coeff.append(features_u_d0[(func.__name__)+'_'+str(i)])\n",
    "for i in range(2720):\n",
    "    complex_coeff.append(features_u_d1[(func.__name__)+'_'+str(i)])\n",
    "\n",
    "complex_coeff = float64to32(complex_coeff)\n",
    "\n",
    "for i in range(2720):\n",
    "    features_l_d0[(func.__name__)+'_'+str(i)]=complex_coeff[i]\n",
    "    features_l_d1[(func.__name__)+'_'+str(i)]=complex_coeff[2070+i]  \n",
    "    features_u_d0[(func.__name__)+'_'+str(i)]=complex_coeff[2*2070+i]   \n",
    "    features_u_d1[(func.__name__)+'_'+str(i)]=complex_coeff[3*2070+i]\n"
   ]
  },
  {
   "cell_type": "code",
   "execution_count": 12,
   "id": "f663ccca",
   "metadata": {},
   "outputs": [],
   "source": [
    "path_feat = \"Outex-TC-00024/features/\"\n",
    "\n",
    "with open(path_feat + 'l_d0.pkl', 'wb') as f:\n",
    "  pickle.dump(features_l_d0, f)\n",
    "with open(path_feat+'l_d1.pkl', 'wb') as f:\n",
    "  pickle.dump(features_l_d1, f)\n",
    "with open(path_feat + 'u_d0.pkl', 'wb') as f:\n",
    "  pickle.dump(features_u_d0, f)\n",
    "with open(path_feat + 'u_d1.pkl', 'wb') as f:\n",
    "  pickle.dump(features_u_d1, f)"
   ]
  }
 ],
 "metadata": {
  "kernelspec": {
   "display_name": "Python 3 (ipykernel)",
   "language": "python",
   "name": "python3"
  },
  "language_info": {
   "codemirror_mode": {
    "name": "ipython",
    "version": 3
   },
   "file_extension": ".py",
   "mimetype": "text/x-python",
   "name": "python",
   "nbconvert_exporter": "python",
   "pygments_lexer": "ipython3",
   "version": "3.8.10"
  }
 },
 "nbformat": 4,
 "nbformat_minor": 5
}
