{
 "cells": [
  {
   "cell_type": "markdown",
   "id": "79911499",
   "metadata": {},
   "source": [
    "# Classifying Outex-10"
   ]
  },
  {
   "cell_type": "code",
   "execution_count": 26,
   "id": "62f4610b",
   "metadata": {},
   "outputs": [],
   "source": [
    "import pickle\n",
    "import pandas as pd\n",
    "import numpy as np\n",
    "from sklearn.ensemble import RandomForestClassifier\n",
    "from sklearn.model_selection import cross_val_score\n",
    "from vectorization import *"
   ]
  },
  {
   "cell_type": "code",
   "execution_count": 27,
   "id": "e8eb49b6",
   "metadata": {},
   "outputs": [],
   "source": [
    "path_feat = \"Outex-TC-00024/features/\"\n",
    "path_res = \"Outex-TC-00024/results/\"\n",
    "path_data = \"Outex-TC-00024/data/000/\""
   ]
  },
  {
   "cell_type": "code",
   "execution_count": 3,
   "id": "3704411c",
   "metadata": {},
   "outputs": [],
   "source": [
    "with open(path_feat + 'l_d0.pkl', 'rb') as f:\n",
    "    features_l_d0 = pickle.load(f)\n",
    "with open(path_feat + 'l_d1.pkl', 'rb') as f:\n",
    "    features_l_d1 = pickle.load(f)\n",
    "with open(path_feat + 'u_d0.pkl', 'rb') as f:\n",
    "    features_u_d0 = pickle.load(f)\n",
    "with open(path_feat + 'u_d1.pkl', 'rb') as f:\n",
    "    features_u_d1 = pickle.load(f)"
   ]
  },
  {
   "cell_type": "code",
   "execution_count": 4,
   "id": "cde9dfa9",
   "metadata": {},
   "outputs": [],
   "source": [
    "func_list = [GetPersStats,\n",
    "             GetPersImageFeature,\n",
    "             GetPersLandscapeFeature,\n",
    "             GetPersEntropyFeature,\n",
    "             GetBettiCurveFeature,\n",
    "             GetCarlssonCoordinatesFeature,\n",
    "             GetPersSilhouetteFeature,\n",
    "             GetTopologicalVectorFeature,\n",
    "             GetAtolFeature,\n",
    "             GetComplexPolynomialFeature,\n",
    "             GetPersLifespanFeature,\n",
    "             GetPersTropicalCoordinatesFeature\n",
    "            ]"
   ]
  },
  {
   "cell_type": "code",
   "execution_count": 5,
   "id": "029e0378",
   "metadata": {},
   "outputs": [],
   "source": [
    "features = {}\n",
    "for i in range(2720):\n",
    "    for func in func_list:\n",
    "        features[(func.__name__)+'_'+str(i)] = np.hstack([features_l_d0[(func.__name__)+'_'+str(i)],features_l_d1[(func.__name__)+'_'+str(i)],features_u_d0[(func.__name__)+'_'+str(i)],features_u_d1[(func.__name__)+'_'+str(i)]])"
   ]
  },
  {
   "cell_type": "code",
   "execution_count": 6,
   "id": "9b4e4e6c",
   "metadata": {},
   "outputs": [],
   "source": [
    "from numpy.random import choice\n",
    "from numpy.random import seed\n",
    "seed(1)\n",
    "labels = range(68)\n",
    "labels = choice(labels, size=(10), replace = False)"
   ]
  },
  {
   "cell_type": "code",
   "execution_count": 7,
   "id": "e64eb006",
   "metadata": {},
   "outputs": [],
   "source": [
    "train_labels_0 = np.array(pd.read_csv(path_data + \"train.txt\", sep=\" \", usecols=[1]).to_numpy().flatten().tolist())\n",
    "test_labels_0 = np.array(pd.read_csv(path_data + \"test.txt\", sep=\" \", usecols=[1]).to_numpy().flatten().tolist())"
   ]
  },
  {
   "cell_type": "code",
   "execution_count": 8,
   "id": "7b20966c",
   "metadata": {},
   "outputs": [],
   "source": [
    "train_indexes = np.array([i for i in range(len(train_labels_0)) if train_labels_0[i] in labels])\n",
    "test_indexes = np.array([i for i in range(len(test_labels_0)) if test_labels_0[i] in labels])\n",
    "train_labels = train_labels_0[train_indexes]\n",
    "test_labels = test_labels_0[test_indexes]\n",
    "test_indexes = 1360 + test_indexes"
   ]
  },
  {
   "cell_type": "markdown",
   "id": "a0071da9",
   "metadata": {},
   "source": [
    "### Classical Training-Test"
   ]
  },
  {
   "cell_type": "code",
   "execution_count": 9,
   "id": "376a33bc",
   "metadata": {},
   "outputs": [],
   "source": [
    "def classification(train_labels, test_labels, train_indexes, test_indexes, func_list, features):\n",
    "    train_scores = dict()\n",
    "    test_scores = dict()\n",
    "    for func in func_list:\n",
    "        X = []\n",
    "        Y = []\n",
    "        for i in train_indexes:\n",
    "            name = (func.__name__)+'_'+str(i)\n",
    "            X.append(features[name])\n",
    "        for i in test_indexes:\n",
    "            name = (func.__name__)+'_'+str(i)\n",
    "            Y.append(features[name])\n",
    "        clf = RandomForestClassifier()\n",
    "        clf = clf.fit(X, train_labels)      \n",
    "        train_scores[func.__name__] = clf.score(X, train_labels)\n",
    "        test_scores[func.__name__] = clf.score(Y, test_labels)\n",
    "    return train_scores, test_scores"
   ]
  },
  {
   "cell_type": "code",
   "execution_count": 10,
   "id": "7e62d344",
   "metadata": {},
   "outputs": [],
   "source": [
    "n = 10\n",
    "scores_vector = np.zeros([n, len(func_list)])\n",
    "for i in range(n):\n",
    "    train_scores, test_scores = classification(train_labels, test_labels, train_indexes, test_indexes, func_list, features)\n",
    "    scores_vector[i, :] = np.array([x[1] for x in list(test_scores.items())])\n",
    "    \n",
    "scores_avg = dict()\n",
    "for j in range(len(func_list)):\n",
    "    scores_avg[func_list[j].__name__] = (scores_vector[:,j].mean(), scores_vector[:,j].std())\n",
    "    \n",
    "with open('scores.pkl', 'wb') as f:\n",
    "  pickle.dump(scores_avg, f)"
   ]
  },
  {
   "cell_type": "code",
   "execution_count": 11,
   "id": "67973676",
   "metadata": {},
   "outputs": [
    {
     "data": {
      "text/plain": [
       "{'GetPersStats': (0.63, 0.023345235059857524),\n",
       " 'GetPersImageFeature': (0.556, 0.018411952639521948),\n",
       " 'GetPersLandscapeFeature': (0.6060000000000001, 0.015779733838059515),\n",
       " 'GetPersEntropyFeature': (0.5405, 0.021266170318136726),\n",
       " 'GetBettiCurveFeature': (0.5160000000000001, 0.018814887722226795),\n",
       " 'GetCarlssonCoordinatesFeature': (0.5584999999999999, 0.030170349683091166),\n",
       " 'GetPersSilhouetteFeature': (0.47300000000000003, 0.017776388834631174),\n",
       " 'GetTopologicalVectorFeature': (0.5355000000000001, 0.016499999999999994),\n",
       " 'GetAtolFeature': (0.569, 0.019595917942265395),\n",
       " 'GetComplexPolynomialFeature': (0.5279999999999999, 0.0271293199325011),\n",
       " 'GetPersLifespanFeature': (0.5834999999999999, 0.008381527307120114),\n",
       " 'GetPersTropicalCoordinatesFeature': (0.5810000000000001,\n",
       "  0.028879058156387277)}"
      ]
     },
     "execution_count": 11,
     "metadata": {},
     "output_type": "execute_result"
    }
   ],
   "source": [
    "scores_avg"
   ]
  },
  {
   "cell_type": "markdown",
   "id": "6ee2c86c",
   "metadata": {},
   "source": [
    "### K-Fold Cross Validation with the Training Set"
   ]
  },
  {
   "cell_type": "code",
   "execution_count": 30,
   "id": "7b0e971a",
   "metadata": {},
   "outputs": [],
   "source": [
    "def kfold_classification(labels, indexes, func_list, features, n=5):\n",
    "    scores = dict()\n",
    "    for func in func_list:\n",
    "        X = []\n",
    "        for i in indexes:\n",
    "            name = (func.__name__)+'_'+str(i)\n",
    "            X.append(features[name])\n",
    "        clf = RandomForestClassifier()\n",
    "        clf = clf.fit(X, train_labels)  \n",
    "        score = cross_val_score(clf, X, labels, cv=n)\n",
    "        scores[func.__name__] = (score.mean(), score.std())\n",
    "        \n",
    "    return scores"
   ]
  },
  {
   "cell_type": "code",
   "execution_count": 31,
   "id": "51351be1",
   "metadata": {},
   "outputs": [],
   "source": [
    "scores_avg = kfold_classification(labels=train_labels, indexes=train_indexes, func_list=func_list, features=features, n=15)    \n",
    "with open(path_res + '10-k-fold_train_scores.pkl', 'wb') as f:\n",
    "  pickle.dump(scores_avg, f)"
   ]
  },
  {
   "cell_type": "code",
   "execution_count": 32,
   "id": "9e11c802",
   "metadata": {},
   "outputs": [
    {
     "data": {
      "text/plain": [
       "{'GetPersStats': (0.9505494505494506, 0.043680454756817116),\n",
       " 'GetPersImageFeature': (0.8201465201465201, 0.1183802086249791),\n",
       " 'GetPersLandscapeFeature': (0.8366300366300365, 0.09710345666974564),\n",
       " 'GetPersEntropyFeature': (0.9300366300366302, 0.07524241082458158),\n",
       " 'GetBettiCurveFeature': (0.8560439560439562, 0.0764559337236408),\n",
       " 'GetCarlssonCoordinatesFeature': (0.8959706959706961, 0.06361826473366883),\n",
       " 'GetPersSilhouetteFeature': (0.9703296703296703, 0.045961574040609875),\n",
       " 'GetTopologicalVectorFeature': (0.7813186813186814, 0.08592535297725105),\n",
       " 'GetAtolFeature': (0.868864468864469, 0.11366885274974517),\n",
       " 'GetComplexPolynomialFeature': (0.9703296703296703, 0.045961574040609875),\n",
       " 'GetPersLifespanFeature': (0.9058608058608059, 0.08677995067094788),\n",
       " 'GetPersTropicalCoordinatesFeature': (0.9256410256410258,\n",
       "  0.07061716270215301)}"
      ]
     },
     "execution_count": 32,
     "metadata": {},
     "output_type": "execute_result"
    }
   ],
   "source": [
    "scores_avg"
   ]
  },
  {
   "cell_type": "markdown",
   "id": "16c99279",
   "metadata": {},
   "source": [
    "### K-Fold Cross Validation with the Whole Set"
   ]
  },
  {
   "cell_type": "code",
   "execution_count": 16,
   "id": "b2e6825c",
   "metadata": {},
   "outputs": [],
   "source": [
    "whole_labels = train_labels+test_labels\n",
    "whole_index = train_indexes+test_indexes"
   ]
  },
  {
   "cell_type": "code",
   "execution_count": 20,
   "id": "13eb3efa",
   "metadata": {},
   "outputs": [
    {
     "name": "stdout",
     "output_type": "stream",
     "text": [
      "GetPersStats\n",
      "GetPersImageFeature\n",
      "GetPersLandscapeFeature\n",
      "GetPersEntropyFeature\n",
      "GetBettiCurveFeature\n",
      "GetCarlssonCoordinatesFeature\n",
      "GetPersSilhouetteFeature\n",
      "GetTopologicalVectorFeature\n",
      "GetAtolFeature\n",
      "GetComplexPolynomialFeature\n",
      "GetPersLifespanFeature\n",
      "GetPersTropicalCoordinatesFeature\n"
     ]
    }
   ],
   "source": [
    "scores_avg = kfold_classification(labels=whole_labels, indexes=whole_index, func_list=func_list, features=features, n=10)    \n",
    "with open(path_res + '10-k-fold_whole_scores.pkl', 'wb') as f:\n",
    "  pickle.dump(scores_avg, f)"
   ]
  },
  {
   "cell_type": "code",
   "execution_count": 21,
   "id": "746718c6",
   "metadata": {},
   "outputs": [
    {
     "data": {
      "text/plain": [
       "{'GetPersStats': (0.97, 0.039999999999999994),\n",
       " 'GetPersImageFeature': (0.93, 0.03999999999999999),\n",
       " 'GetPersLandscapeFeature': (0.9499999999999998, 0.0447213595499958),\n",
       " 'GetPersEntropyFeature': (0.9200000000000002, 0.07810249675906653),\n",
       " 'GetBettiCurveFeature': (0.9499999999999998, 0.0447213595499958),\n",
       " 'GetCarlssonCoordinatesFeature': (0.945, 0.065),\n",
       " 'GetPersSilhouetteFeature': (0.9549999999999998, 0.04153311931459038),\n",
       " 'GetTopologicalVectorFeature': (0.8550000000000001, 0.07566372975210778),\n",
       " 'GetAtolFeature': (0.8700000000000001, 0.08426149773176358),\n",
       " 'GetComplexPolynomialFeature': (0.9800000000000001, 0.033166247903554),\n",
       " 'GetPersLifespanFeature': (0.96, 0.07681145747868609),\n",
       " 'GetPersTropicalCoordinatesFeature': (0.95, 0.05916079783099615)}"
      ]
     },
     "execution_count": 21,
     "metadata": {},
     "output_type": "execute_result"
    }
   ],
   "source": [
    "scores_avg"
   ]
  },
  {
   "cell_type": "markdown",
   "id": "652d5778",
   "metadata": {},
   "source": [
    "### Classical Training-Test 70/30"
   ]
  },
  {
   "cell_type": "code",
   "execution_count": 21,
   "id": "3faed538",
   "metadata": {},
   "outputs": [],
   "source": [
    "indexes = np.hstack([train_indexes, test_indexes])\n",
    "labels = np.hstack([train_labels, test_labels])"
   ]
  },
  {
   "cell_type": "code",
   "execution_count": 22,
   "id": "a50f8ec4",
   "metadata": {},
   "outputs": [],
   "source": [
    "from sklearn.model_selection import train_test_split\n",
    "X_train, X_test, y_train, y_test = train_test_split(indexes, labels, test_size=0.3, random_state=1)"
   ]
  },
  {
   "cell_type": "code",
   "execution_count": 24,
   "id": "b28aff7a",
   "metadata": {},
   "outputs": [],
   "source": [
    "n = 10\n",
    "scores_vector = np.zeros([n, len(func_list)])\n",
    "for i in range(n):\n",
    "    train_scores, test_scores = classification(train_labels=y_train, test_labels=y_test, train_indexes=X_train, test_indexes=X_test, func_list=func_list, features=features)\n",
    "    scores_vector[i, :] = np.array([x[1] for x in list(test_scores.items())])\n",
    "    \n",
    "scores_avg = dict()\n",
    "for j in range(len(func_list)):\n",
    "    scores_avg[func_list[j].__name__] = (scores_vector[:,j].mean(), scores_vector[:,j].std())\n",
    "    \n",
    "with open('10-7030_scores.pkl', 'wb') as f:\n",
    "  pickle.dump(scores_avg, f)"
   ]
  },
  {
   "cell_type": "code",
   "execution_count": 25,
   "id": "10e0aab5",
   "metadata": {},
   "outputs": [
    {
     "data": {
      "text/plain": [
       "{'GetPersStats': (0.9175000000000001, 0.012610621625351292),\n",
       " 'GetPersImageFeature': (0.7358333333333333, 0.015833333333333345),\n",
       " 'GetPersLandscapeFeature': (0.8191666666666666, 0.009895285072531594),\n",
       " 'GetPersEntropyFeature': (0.885, 0.011666666666666672),\n",
       " 'GetBettiCurveFeature': (0.8483333333333334, 0.016158932858054424),\n",
       " 'GetCarlssonCoordinatesFeature': (0.9066666666666668, 0.01166666666666666),\n",
       " 'GetPersSilhouetteFeature': (0.8799999999999999, 0.011303883305208805),\n",
       " 'GetTopologicalVectorFeature': (0.79, 0.011055415967851331),\n",
       " 'GetAtolFeature': (0.7024999999999999, 0.023288647687470205),\n",
       " 'GetComplexPolynomialFeature': (0.9724999999999999, 0.0053359368645273545),\n",
       " 'GetPersLifespanFeature': (0.9175000000000001, 0.009464847243000467),\n",
       " 'GetPersTropicalCoordinatesFeature': (0.8841666666666667,\n",
       "  0.009464847243000467)}"
      ]
     },
     "execution_count": 25,
     "metadata": {},
     "output_type": "execute_result"
    }
   ],
   "source": [
    "scores_avg"
   ]
  }
 ],
 "metadata": {
  "kernelspec": {
   "display_name": "Python 3 (ipykernel)",
   "language": "python",
   "name": "python3"
  },
  "language_info": {
   "codemirror_mode": {
    "name": "ipython",
    "version": 3
   },
   "file_extension": ".py",
   "mimetype": "text/x-python",
   "name": "python",
   "nbconvert_exporter": "python",
   "pygments_lexer": "ipython3",
   "version": "3.8.10"
  }
 },
 "nbformat": 4,
 "nbformat_minor": 5
}
